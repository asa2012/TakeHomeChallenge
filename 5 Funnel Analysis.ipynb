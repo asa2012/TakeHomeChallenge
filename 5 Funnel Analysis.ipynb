{
 "cells": [
  {
   "cell_type": "code",
   "execution_count": 23,
   "metadata": {
    "collapsed": false
   },
   "outputs": [],
   "source": [
    "import pandas as pd\n",
    "import numpy as np\n",
    "from matplotlib import pyplot as plt\n",
    "\n",
    "user=\"data\\Funnel\\\\user_table.csv\"\n",
    "home=\"data\\Funnel\\home_page_table.csv\"\n",
    "search=\"data\\Funnel\\search_page_table.csv\"\n",
    "payment=\"data\\Funnel\\payment_page_table.csv\"\n",
    "payment_conf=\"data\\Funnel\\payment_confirmation_table.csv\"\n",
    "\n",
    "user=pd.read_csv(user,header=0,parse_dates=[1])\n",
    "home=pd.read_csv(home,header=0)#,parse_dates=[5,6])\n",
    "search=pd.read_csv(search,header=0)#,parse_dates=[5,6])\n",
    "payment=pd.read_csv(payment,header=0)#,parse_dates=[5,6])\n",
    "payment_conf=pd.read_csv(payment_conf,header=0)#,parse_dates=[5,6])"
   ]
  },
  {
   "cell_type": "code",
   "execution_count": 32,
   "metadata": {
    "collapsed": false
   },
   "outputs": [
    {
     "data": {
      "text/plain": [
       "1"
      ]
     },
     "execution_count": 32,
     "metadata": {},
     "output_type": "execute_result"
    }
   ],
   "source": [
    "max(user.groupby('user_id').size())#confirmed user table,user id is unique \n",
    "max(payment_conf.groupby('user_id').size())#confirmed in all pages table, user id is unique  \n",
    "#home.head()\n",
    "#payment_conf.head()"
   ]
  },
  {
   "cell_type": "code",
   "execution_count": 46,
   "metadata": {
    "collapsed": false,
    "scrolled": true
   },
   "outputs": [
    {
     "data": {
      "text/html": [
       "<div>\n",
       "<style>\n",
       "    .dataframe thead tr:only-child th {\n",
       "        text-align: right;\n",
       "    }\n",
       "\n",
       "    .dataframe thead th {\n",
       "        text-align: left;\n",
       "    }\n",
       "\n",
       "    .dataframe tbody tr th {\n",
       "        vertical-align: top;\n",
       "    }\n",
       "</style>\n",
       "<table border=\"1\" class=\"dataframe\">\n",
       "  <thead>\n",
       "    <tr style=\"text-align: right;\">\n",
       "      <th></th>\n",
       "      <th>user_id</th>\n",
       "      <th>page_home</th>\n",
       "      <th>date</th>\n",
       "      <th>device</th>\n",
       "      <th>sex</th>\n",
       "      <th>page_search</th>\n",
       "      <th>page_payment</th>\n",
       "      <th>page_paymentconf</th>\n",
       "    </tr>\n",
       "  </thead>\n",
       "  <tbody>\n",
       "    <tr>\n",
       "      <th>0</th>\n",
       "      <td>313593</td>\n",
       "      <td>home_page</td>\n",
       "      <td>2015-02-26</td>\n",
       "      <td>Desktop</td>\n",
       "      <td>Female</td>\n",
       "      <td>NaN</td>\n",
       "      <td>NaN</td>\n",
       "      <td>NaN</td>\n",
       "    </tr>\n",
       "    <tr>\n",
       "      <th>1</th>\n",
       "      <td>468315</td>\n",
       "      <td>home_page</td>\n",
       "      <td>2015-02-21</td>\n",
       "      <td>Desktop</td>\n",
       "      <td>Male</td>\n",
       "      <td>NaN</td>\n",
       "      <td>NaN</td>\n",
       "      <td>NaN</td>\n",
       "    </tr>\n",
       "    <tr>\n",
       "      <th>2</th>\n",
       "      <td>264005</td>\n",
       "      <td>home_page</td>\n",
       "      <td>2015-03-25</td>\n",
       "      <td>Desktop</td>\n",
       "      <td>Female</td>\n",
       "      <td>NaN</td>\n",
       "      <td>NaN</td>\n",
       "      <td>NaN</td>\n",
       "    </tr>\n",
       "    <tr>\n",
       "      <th>3</th>\n",
       "      <td>290784</td>\n",
       "      <td>home_page</td>\n",
       "      <td>2015-03-14</td>\n",
       "      <td>Desktop</td>\n",
       "      <td>Male</td>\n",
       "      <td>NaN</td>\n",
       "      <td>NaN</td>\n",
       "      <td>NaN</td>\n",
       "    </tr>\n",
       "    <tr>\n",
       "      <th>4</th>\n",
       "      <td>639104</td>\n",
       "      <td>home_page</td>\n",
       "      <td>2015-01-03</td>\n",
       "      <td>Desktop</td>\n",
       "      <td>Female</td>\n",
       "      <td>search_page</td>\n",
       "      <td>NaN</td>\n",
       "      <td>NaN</td>\n",
       "    </tr>\n",
       "  </tbody>\n",
       "</table>\n",
       "</div>"
      ],
      "text/plain": [
       "   user_id  page_home       date   device     sex  page_search page_payment  \\\n",
       "0   313593  home_page 2015-02-26  Desktop  Female          NaN          NaN   \n",
       "1   468315  home_page 2015-02-21  Desktop    Male          NaN          NaN   \n",
       "2   264005  home_page 2015-03-25  Desktop  Female          NaN          NaN   \n",
       "3   290784  home_page 2015-03-14  Desktop    Male          NaN          NaN   \n",
       "4   639104  home_page 2015-01-03  Desktop  Female  search_page          NaN   \n",
       "\n",
       "  page_paymentconf  \n",
       "0              NaN  \n",
       "1              NaN  \n",
       "2              NaN  \n",
       "3              NaN  \n",
       "4              NaN  "
      ]
     },
     "execution_count": 46,
     "metadata": {},
     "output_type": "execute_result"
    }
   ],
   "source": [
    "data=home.merge(user,how=\"left\",on=\"user_id\")\n",
    "data=data.merge(search,how=\"left\",on=\"user_id\",suffixes=(\"_home\",\"_search\"))\n",
    "data=data.merge(payment,how=\"left\",on=\"user_id\") \n",
    "data=data.merge(payment_conf,how=\"left\",on=\"user_id\",suffixes=(\"_payment\",\"_paymentconf\")) \n",
    "\n",
    "data.head()"
   ]
  },
  {
   "cell_type": "code",
   "execution_count": 48,
   "metadata": {
    "collapsed": false
   },
   "outputs": [
    {
     "name": "stdout",
     "output_type": "stream",
     "text": [
      "<class 'pandas.core.frame.DataFrame'>\n",
      "Int64Index: 90400 entries, 0 to 90399\n",
      "Data columns (total 8 columns):\n",
      "user_id             90400 non-null int64\n",
      "page_home           90400 non-null object\n",
      "date                90400 non-null datetime64[ns]\n",
      "device              90400 non-null object\n",
      "sex                 90400 non-null object\n",
      "page_search         45200 non-null object\n",
      "page_payment        6030 non-null object\n",
      "page_paymentconf    452 non-null object\n",
      "dtypes: datetime64[ns](1), int64(1), object(6)\n",
      "memory usage: 6.2+ MB\n"
     ]
    }
   ],
   "source": [
    "data.describe()#only calculates numeric values\n",
    "data.info()"
   ]
  },
  {
   "cell_type": "code",
   "execution_count": 52,
   "metadata": {
    "collapsed": false
   },
   "outputs": [],
   "source": [
    "data.to_csv(\"data\\Funnel\\\\funnel_output.csv\",encoding='utf-8')"
   ]
  }
 ],
 "metadata": {
  "kernelspec": {
   "display_name": "Python 3",
   "language": "python",
   "name": "python3"
  },
  "language_info": {
   "codemirror_mode": {
    "name": "ipython",
    "version": 3
   },
   "file_extension": ".py",
   "mimetype": "text/x-python",
   "name": "python",
   "nbconvert_exporter": "python",
   "pygments_lexer": "ipython3",
   "version": "3.5.2"
  }
 },
 "nbformat": 4,
 "nbformat_minor": 2
}

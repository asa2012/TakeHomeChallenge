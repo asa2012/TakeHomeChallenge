{
 "cells": [
  {
   "cell_type": "markdown",
   "metadata": {},
   "source": [
    "# Goal\n",
    "Many sites make money by selling ads. For these sites, the number of pages visited by users on each session is one of the most important metric, if not the most important metric. Data science plays a huge role here, especially by building models to suggest personalized content. In order to check if the model is actually improving engagement, companies then run A/B tests. It is often data scientist responsibility to analyze test data and understand whether the model has been successful. The goal of this project is to look at A/B test results and draw conclusions."
   ]
  },
  {
   "cell_type": "markdown",
   "metadata": {},
   "source": [
    "# Challenge Description\n",
    "The company of this exercise is a social network. They decided to add a feature called: Recommended Friends, i.e. they suggest people you may know. A data scientist has built a model to suggest 5 people to each user. These potential friends will be shown on the user newsfeed. At ﬁrst, the model is tested just on a random subset of users to see how it performs compared to the newsfeed without the new feature. The test has been running for some time and your boss asks you to check the results. You are asked to check, for each user, the number of pages visited during their ﬁrst session since the test started. If this number increased, the test is a success. "
   ]
  },
  {
   "cell_type": "markdown",
   "metadata": {},
   "source": [
    "# Question1\n",
    "Is the test winning? That is, should 100% of the users see the Recommended Friends feature? Is the test performing similarly for all user segments or are there diﬀerences among diﬀerent segments? If you identiﬁed segments that responded diﬀerently to the test, can you guess the reason? Would this change your point 1 conclusions?\n"
   ]
  },
  {
   "cell_type": "code",
   "execution_count": 38,
   "metadata": {
    "collapsed": true
   },
   "outputs": [],
   "source": [
    "import pandas as pd\n",
    "import numpy as np\n",
    "from scipy import stats"
   ]
  },
  {
   "cell_type": "code",
   "execution_count": 8,
   "metadata": {
    "collapsed": false
   },
   "outputs": [],
   "source": [
    "test_file='data/Engagement_Test/test_table.csv'\n",
    "user_file='data/Engagement_Test/user_table.csv'"
   ]
  },
  {
   "cell_type": "code",
   "execution_count": 9,
   "metadata": {
    "collapsed": false
   },
   "outputs": [],
   "source": [
    "test=pd.read_csv(test_file)\n",
    "user=pd.read_csv(user_file)"
   ]
  },
  {
   "cell_type": "code",
   "execution_count": 12,
   "metadata": {
    "collapsed": false
   },
   "outputs": [
    {
     "data": {
      "text/html": [
       "<div>\n",
       "<style>\n",
       "    .dataframe thead tr:only-child th {\n",
       "        text-align: right;\n",
       "    }\n",
       "\n",
       "    .dataframe thead th {\n",
       "        text-align: left;\n",
       "    }\n",
       "\n",
       "    .dataframe tbody tr th {\n",
       "        vertical-align: top;\n",
       "    }\n",
       "</style>\n",
       "<table border=\"1\" class=\"dataframe\">\n",
       "  <thead>\n",
       "    <tr style=\"text-align: right;\">\n",
       "      <th></th>\n",
       "      <th>user_id</th>\n",
       "      <th>test</th>\n",
       "      <th>pages_visited</th>\n",
       "    </tr>\n",
       "  </thead>\n",
       "  <tbody>\n",
       "    <tr>\n",
       "      <th>count</th>\n",
       "      <td>1.000000e+05</td>\n",
       "      <td>100000.00000</td>\n",
       "      <td>100000.000000</td>\n",
       "    </tr>\n",
       "    <tr>\n",
       "      <th>mean</th>\n",
       "      <td>4.511960e+06</td>\n",
       "      <td>0.50154</td>\n",
       "      <td>4.604030</td>\n",
       "    </tr>\n",
       "    <tr>\n",
       "      <th>std</th>\n",
       "      <td>2.596973e+06</td>\n",
       "      <td>0.50000</td>\n",
       "      <td>2.467845</td>\n",
       "    </tr>\n",
       "    <tr>\n",
       "      <th>min</th>\n",
       "      <td>3.400000e+01</td>\n",
       "      <td>0.00000</td>\n",
       "      <td>0.000000</td>\n",
       "    </tr>\n",
       "    <tr>\n",
       "      <th>25%</th>\n",
       "      <td>2.271007e+06</td>\n",
       "      <td>0.00000</td>\n",
       "      <td>3.000000</td>\n",
       "    </tr>\n",
       "    <tr>\n",
       "      <th>50%</th>\n",
       "      <td>4.519576e+06</td>\n",
       "      <td>1.00000</td>\n",
       "      <td>5.000000</td>\n",
       "    </tr>\n",
       "    <tr>\n",
       "      <th>75%</th>\n",
       "      <td>6.764484e+06</td>\n",
       "      <td>1.00000</td>\n",
       "      <td>6.000000</td>\n",
       "    </tr>\n",
       "    <tr>\n",
       "      <th>max</th>\n",
       "      <td>8.999849e+06</td>\n",
       "      <td>1.00000</td>\n",
       "      <td>17.000000</td>\n",
       "    </tr>\n",
       "  </tbody>\n",
       "</table>\n",
       "</div>"
      ],
      "text/plain": [
       "            user_id          test  pages_visited\n",
       "count  1.000000e+05  100000.00000  100000.000000\n",
       "mean   4.511960e+06       0.50154       4.604030\n",
       "std    2.596973e+06       0.50000       2.467845\n",
       "min    3.400000e+01       0.00000       0.000000\n",
       "25%    2.271007e+06       0.00000       3.000000\n",
       "50%    4.519576e+06       1.00000       5.000000\n",
       "75%    6.764484e+06       1.00000       6.000000\n",
       "max    8.999849e+06       1.00000      17.000000"
      ]
     },
     "execution_count": 12,
     "metadata": {},
     "output_type": "execute_result"
    }
   ],
   "source": [
    "test.describe()"
   ]
  },
  {
   "cell_type": "code",
   "execution_count": 19,
   "metadata": {
    "collapsed": false
   },
   "outputs": [],
   "source": [
    "TestRate=test.loc[test[\"test\"]==1].shape[0]/100000"
   ]
  },
  {
   "cell_type": "code",
   "execution_count": 20,
   "metadata": {
    "collapsed": false
   },
   "outputs": [
    {
     "data": {
      "text/plain": [
       "0.50154"
      ]
     },
     "execution_count": 20,
     "metadata": {},
     "output_type": "execute_result"
    }
   ],
   "source": [
    "TestRate"
   ]
  },
  {
   "cell_type": "markdown",
   "metadata": {},
   "source": [
    "## sanity check for test event rate, assuming experiment was set up 50% and 50%\n"
   ]
  },
  {
   "cell_type": "code",
   "execution_count": 26,
   "metadata": {
    "collapsed": false
   },
   "outputs": [
    {
     "name": "stdout",
     "output_type": "stream",
     "text": [
      "test rate should be range between 0.4975~0.5025\n"
     ]
    }
   ],
   "source": [
    "upper=0.5+1.56*np.sqrt(0.5*0.5/100000)\n",
    "lower=0.5-1.56*np.sqrt(0.5*0.5/100000)\n",
    "print('test rate should be range between {0:.4f}~{1:.4f}'.format(lower,upper))"
   ]
  },
  {
   "cell_type": "code",
   "execution_count": 13,
   "metadata": {
    "collapsed": false
   },
   "outputs": [
    {
     "data": {
      "text/html": [
       "<div>\n",
       "<style>\n",
       "    .dataframe thead tr:only-child th {\n",
       "        text-align: right;\n",
       "    }\n",
       "\n",
       "    .dataframe thead th {\n",
       "        text-align: left;\n",
       "    }\n",
       "\n",
       "    .dataframe tbody tr th {\n",
       "        vertical-align: top;\n",
       "    }\n",
       "</style>\n",
       "<table border=\"1\" class=\"dataframe\">\n",
       "  <thead>\n",
       "    <tr style=\"text-align: right;\">\n",
       "      <th></th>\n",
       "      <th>user_id</th>\n",
       "      <th>date</th>\n",
       "      <th>browser</th>\n",
       "      <th>test</th>\n",
       "      <th>pages_visited</th>\n",
       "    </tr>\n",
       "  </thead>\n",
       "  <tbody>\n",
       "    <tr>\n",
       "      <th>0</th>\n",
       "      <td>600597</td>\n",
       "      <td>2015-08-13</td>\n",
       "      <td>IE</td>\n",
       "      <td>0</td>\n",
       "      <td>2</td>\n",
       "    </tr>\n",
       "    <tr>\n",
       "      <th>1</th>\n",
       "      <td>4410028</td>\n",
       "      <td>2015-08-26</td>\n",
       "      <td>Chrome</td>\n",
       "      <td>1</td>\n",
       "      <td>5</td>\n",
       "    </tr>\n",
       "    <tr>\n",
       "      <th>2</th>\n",
       "      <td>6004777</td>\n",
       "      <td>2015-08-17</td>\n",
       "      <td>Chrome</td>\n",
       "      <td>0</td>\n",
       "      <td>8</td>\n",
       "    </tr>\n",
       "    <tr>\n",
       "      <th>3</th>\n",
       "      <td>5990330</td>\n",
       "      <td>2015-08-27</td>\n",
       "      <td>Safari</td>\n",
       "      <td>0</td>\n",
       "      <td>8</td>\n",
       "    </tr>\n",
       "    <tr>\n",
       "      <th>4</th>\n",
       "      <td>3622310</td>\n",
       "      <td>2015-08-07</td>\n",
       "      <td>Firefox</td>\n",
       "      <td>0</td>\n",
       "      <td>1</td>\n",
       "    </tr>\n",
       "  </tbody>\n",
       "</table>\n",
       "</div>"
      ],
      "text/plain": [
       "   user_id        date  browser  test  pages_visited\n",
       "0   600597  2015-08-13       IE     0              2\n",
       "1  4410028  2015-08-26   Chrome     1              5\n",
       "2  6004777  2015-08-17   Chrome     0              8\n",
       "3  5990330  2015-08-27   Safari     0              8\n",
       "4  3622310  2015-08-07  Firefox     0              1"
      ]
     },
     "execution_count": 13,
     "metadata": {},
     "output_type": "execute_result"
    }
   ],
   "source": [
    "test.head()"
   ]
  },
  {
   "cell_type": "code",
   "execution_count": 28,
   "metadata": {
    "collapsed": false
   },
   "outputs": [
    {
     "data": {
      "text/plain": [
       "100000"
      ]
     },
     "execution_count": 28,
     "metadata": {},
     "output_type": "execute_result"
    }
   ],
   "source": [
    "len(test.user_id.unique())#user_id is unique "
   ]
  },
  {
   "cell_type": "code",
   "execution_count": 14,
   "metadata": {
    "collapsed": false
   },
   "outputs": [
    {
     "data": {
      "text/html": [
       "<div>\n",
       "<style>\n",
       "    .dataframe thead tr:only-child th {\n",
       "        text-align: right;\n",
       "    }\n",
       "\n",
       "    .dataframe thead th {\n",
       "        text-align: left;\n",
       "    }\n",
       "\n",
       "    .dataframe tbody tr th {\n",
       "        vertical-align: top;\n",
       "    }\n",
       "</style>\n",
       "<table border=\"1\" class=\"dataframe\">\n",
       "  <thead>\n",
       "    <tr style=\"text-align: right;\">\n",
       "      <th></th>\n",
       "      <th>user_id</th>\n",
       "    </tr>\n",
       "  </thead>\n",
       "  <tbody>\n",
       "    <tr>\n",
       "      <th>count</th>\n",
       "      <td>1.000000e+05</td>\n",
       "    </tr>\n",
       "    <tr>\n",
       "      <th>mean</th>\n",
       "      <td>4.511960e+06</td>\n",
       "    </tr>\n",
       "    <tr>\n",
       "      <th>std</th>\n",
       "      <td>2.596973e+06</td>\n",
       "    </tr>\n",
       "    <tr>\n",
       "      <th>min</th>\n",
       "      <td>3.400000e+01</td>\n",
       "    </tr>\n",
       "    <tr>\n",
       "      <th>25%</th>\n",
       "      <td>2.271007e+06</td>\n",
       "    </tr>\n",
       "    <tr>\n",
       "      <th>50%</th>\n",
       "      <td>4.519576e+06</td>\n",
       "    </tr>\n",
       "    <tr>\n",
       "      <th>75%</th>\n",
       "      <td>6.764484e+06</td>\n",
       "    </tr>\n",
       "    <tr>\n",
       "      <th>max</th>\n",
       "      <td>8.999849e+06</td>\n",
       "    </tr>\n",
       "  </tbody>\n",
       "</table>\n",
       "</div>"
      ],
      "text/plain": [
       "            user_id\n",
       "count  1.000000e+05\n",
       "mean   4.511960e+06\n",
       "std    2.596973e+06\n",
       "min    3.400000e+01\n",
       "25%    2.271007e+06\n",
       "50%    4.519576e+06\n",
       "75%    6.764484e+06\n",
       "max    8.999849e+06"
      ]
     },
     "execution_count": 14,
     "metadata": {},
     "output_type": "execute_result"
    }
   ],
   "source": [
    "user.describe()"
   ]
  },
  {
   "cell_type": "code",
   "execution_count": 30,
   "metadata": {
    "collapsed": false
   },
   "outputs": [
    {
     "data": {
      "text/plain": [
       "100000"
      ]
     },
     "execution_count": 30,
     "metadata": {},
     "output_type": "execute_result"
    }
   ],
   "source": [
    "user.shape[0] #100000 records "
   ]
  },
  {
   "cell_type": "code",
   "execution_count": 31,
   "metadata": {
    "collapsed": false
   },
   "outputs": [
    {
     "data": {
      "text/plain": [
       "100000"
      ]
     },
     "execution_count": 31,
     "metadata": {},
     "output_type": "execute_result"
    }
   ],
   "source": [
    "len(user.user_id.unique())#confirm user_id is unique "
   ]
  },
  {
   "cell_type": "code",
   "execution_count": 15,
   "metadata": {
    "collapsed": false
   },
   "outputs": [
    {
     "data": {
      "text/html": [
       "<div>\n",
       "<style>\n",
       "    .dataframe thead tr:only-child th {\n",
       "        text-align: right;\n",
       "    }\n",
       "\n",
       "    .dataframe thead th {\n",
       "        text-align: left;\n",
       "    }\n",
       "\n",
       "    .dataframe tbody tr th {\n",
       "        vertical-align: top;\n",
       "    }\n",
       "</style>\n",
       "<table border=\"1\" class=\"dataframe\">\n",
       "  <thead>\n",
       "    <tr style=\"text-align: right;\">\n",
       "      <th></th>\n",
       "      <th>user_id</th>\n",
       "      <th>signup_date</th>\n",
       "    </tr>\n",
       "  </thead>\n",
       "  <tbody>\n",
       "    <tr>\n",
       "      <th>0</th>\n",
       "      <td>34</td>\n",
       "      <td>2015-01-01</td>\n",
       "    </tr>\n",
       "    <tr>\n",
       "      <th>1</th>\n",
       "      <td>59</td>\n",
       "      <td>2015-01-01</td>\n",
       "    </tr>\n",
       "    <tr>\n",
       "      <th>2</th>\n",
       "      <td>178</td>\n",
       "      <td>2015-01-01</td>\n",
       "    </tr>\n",
       "    <tr>\n",
       "      <th>3</th>\n",
       "      <td>285</td>\n",
       "      <td>2015-01-01</td>\n",
       "    </tr>\n",
       "    <tr>\n",
       "      <th>4</th>\n",
       "      <td>383</td>\n",
       "      <td>2015-01-01</td>\n",
       "    </tr>\n",
       "  </tbody>\n",
       "</table>\n",
       "</div>"
      ],
      "text/plain": [
       "   user_id signup_date\n",
       "0       34  2015-01-01\n",
       "1       59  2015-01-01\n",
       "2      178  2015-01-01\n",
       "3      285  2015-01-01\n",
       "4      383  2015-01-01"
      ]
     },
     "execution_count": 15,
     "metadata": {},
     "output_type": "execute_result"
    }
   ],
   "source": [
    "user.head()"
   ]
  },
  {
   "cell_type": "code",
   "execution_count": 34,
   "metadata": {
    "collapsed": false
   },
   "outputs": [],
   "source": [
    "data=test.merge(user,how='left',on='user_id')"
   ]
  },
  {
   "cell_type": "code",
   "execution_count": 36,
   "metadata": {
    "collapsed": false
   },
   "outputs": [
    {
     "data": {
      "text/html": [
       "<div>\n",
       "<style>\n",
       "    .dataframe thead tr:only-child th {\n",
       "        text-align: right;\n",
       "    }\n",
       "\n",
       "    .dataframe thead th {\n",
       "        text-align: left;\n",
       "    }\n",
       "\n",
       "    .dataframe tbody tr th {\n",
       "        vertical-align: top;\n",
       "    }\n",
       "</style>\n",
       "<table border=\"1\" class=\"dataframe\">\n",
       "  <thead>\n",
       "    <tr style=\"text-align: right;\">\n",
       "      <th></th>\n",
       "      <th>user_id</th>\n",
       "      <th>date</th>\n",
       "      <th>browser</th>\n",
       "      <th>test</th>\n",
       "      <th>pages_visited</th>\n",
       "      <th>signup_date</th>\n",
       "    </tr>\n",
       "  </thead>\n",
       "  <tbody>\n",
       "    <tr>\n",
       "      <th>0</th>\n",
       "      <td>600597</td>\n",
       "      <td>2015-08-13</td>\n",
       "      <td>IE</td>\n",
       "      <td>0</td>\n",
       "      <td>2</td>\n",
       "      <td>2015-01-19</td>\n",
       "    </tr>\n",
       "    <tr>\n",
       "      <th>1</th>\n",
       "      <td>4410028</td>\n",
       "      <td>2015-08-26</td>\n",
       "      <td>Chrome</td>\n",
       "      <td>1</td>\n",
       "      <td>5</td>\n",
       "      <td>2015-05-11</td>\n",
       "    </tr>\n",
       "    <tr>\n",
       "      <th>2</th>\n",
       "      <td>6004777</td>\n",
       "      <td>2015-08-17</td>\n",
       "      <td>Chrome</td>\n",
       "      <td>0</td>\n",
       "      <td>8</td>\n",
       "      <td>2015-06-26</td>\n",
       "    </tr>\n",
       "    <tr>\n",
       "      <th>3</th>\n",
       "      <td>5990330</td>\n",
       "      <td>2015-08-27</td>\n",
       "      <td>Safari</td>\n",
       "      <td>0</td>\n",
       "      <td>8</td>\n",
       "      <td>2015-06-25</td>\n",
       "    </tr>\n",
       "    <tr>\n",
       "      <th>4</th>\n",
       "      <td>3622310</td>\n",
       "      <td>2015-08-07</td>\n",
       "      <td>Firefox</td>\n",
       "      <td>0</td>\n",
       "      <td>1</td>\n",
       "      <td>2015-04-17</td>\n",
       "    </tr>\n",
       "  </tbody>\n",
       "</table>\n",
       "</div>"
      ],
      "text/plain": [
       "   user_id        date  browser  test  pages_visited signup_date\n",
       "0   600597  2015-08-13       IE     0              2  2015-01-19\n",
       "1  4410028  2015-08-26   Chrome     1              5  2015-05-11\n",
       "2  6004777  2015-08-17   Chrome     0              8  2015-06-26\n",
       "3  5990330  2015-08-27   Safari     0              8  2015-06-25\n",
       "4  3622310  2015-08-07  Firefox     0              1  2015-04-17"
      ]
     },
     "execution_count": 36,
     "metadata": {},
     "output_type": "execute_result"
    }
   ],
   "source": [
    "data.head()"
   ]
  },
  {
   "cell_type": "code",
   "execution_count": 47,
   "metadata": {
    "collapsed": false
   },
   "outputs": [],
   "source": [
    "test_exp=test.loc[test['test']==1]\n",
    "test_cont=test.loc[test['test']==0]\n"
   ]
  },
  {
   "cell_type": "code",
   "execution_count": 48,
   "metadata": {
    "collapsed": false
   },
   "outputs": [
    {
     "data": {
      "text/plain": [
       "4.5996929457271607"
      ]
     },
     "execution_count": 48,
     "metadata": {},
     "output_type": "execute_result"
    }
   ],
   "source": [
    "test_exp['pages_visited'].mean()\n"
   ]
  },
  {
   "cell_type": "code",
   "execution_count": 49,
   "metadata": {
    "collapsed": false
   },
   "outputs": [
    {
     "data": {
      "text/plain": [
       "4.6083938530674473"
      ]
     },
     "execution_count": 49,
     "metadata": {},
     "output_type": "execute_result"
    }
   ],
   "source": [
    "test_cont['pages_visited'].mean()"
   ]
  },
  {
   "cell_type": "code",
   "execution_count": 41,
   "metadata": {
    "collapsed": false
   },
   "outputs": [
    {
     "data": {
      "text/plain": [
       "Ttest_indResult(statistic=-0.55711184355547971, pvalue=0.57745231715591183)"
      ]
     },
     "execution_count": 41,
     "metadata": {},
     "output_type": "execute_result"
    }
   ],
   "source": [
    "stats.ttest_ind(test_exp.pages_visited,test_cont.pages_visited,equal_var=False)\n",
    "# ttest_ind assume equal variance by default"
   ]
  },
  {
   "cell_type": "markdown",
   "metadata": {},
   "source": [
    "# Conclusion to question 1\n",
    "for overall, change is not significant\n"
   ]
  },
  {
   "cell_type": "code",
   "execution_count": 68,
   "metadata": {
    "collapsed": false
   },
   "outputs": [],
   "source": [
    "def run_ttest(df):\n",
    "    df_cont=df.loc[df['test']==0,'pages_visited']\n",
    "    df_exp=df.loc[df['test']==1,'pages_visited']\n",
    "    cont_mean=df_cont.mean()\n",
    "    exp_mean=df_exp.mean()\n",
    "    result=stats.ttest_ind(df_exp,df_cont,equal_var=False)\n",
    "    conclusion='significant' if result.pvalue<0.05 else 'not significant'\n",
    "    return pd.Series({'n_test':df_exp.shape[0],\n",
    "                      'n_ctrl': df_cont.shape[0],\n",
    "                      'mean_test': exp_mean,\n",
    "                      'mean_ctrl': cont_mean,\n",
    "                      'test-ctrl': exp_mean - cont_mean,\n",
    "                      'pvalue':result.pvalue,\n",
    "                      'conclusion':conclusion})\n",
    "    "
   ]
  },
  {
   "cell_type": "code",
   "execution_count": 69,
   "metadata": {
    "collapsed": false,
    "scrolled": true
   },
   "outputs": [
    {
     "data": {
      "text/plain": [
       "conclusion    not significant\n",
       "mean_ctrl             4.60839\n",
       "mean_test             4.59969\n",
       "n_ctrl                  49846\n",
       "n_test                  50154\n",
       "pvalue               0.577452\n",
       "test-ctrl         -0.00870091\n",
       "dtype: object"
      ]
     },
     "execution_count": 69,
     "metadata": {},
     "output_type": "execute_result"
    }
   ],
   "source": [
    "run_ttest(test)"
   ]
  },
  {
   "cell_type": "code",
   "execution_count": 79,
   "metadata": {
    "collapsed": false
   },
   "outputs": [],
   "source": [
    "data['signup_date']=pd.to_datetime(data['signup_date'])\n",
    "data['date']=pd.to_datetime(data['date'])"
   ]
  },
  {
   "cell_type": "code",
   "execution_count": 72,
   "metadata": {
    "collapsed": false
   },
   "outputs": [
    {
     "data": {
      "text/html": [
       "<div>\n",
       "<style>\n",
       "    .dataframe thead tr:only-child th {\n",
       "        text-align: right;\n",
       "    }\n",
       "\n",
       "    .dataframe thead th {\n",
       "        text-align: left;\n",
       "    }\n",
       "\n",
       "    .dataframe tbody tr th {\n",
       "        vertical-align: top;\n",
       "    }\n",
       "</style>\n",
       "<table border=\"1\" class=\"dataframe\">\n",
       "  <thead>\n",
       "    <tr style=\"text-align: right;\">\n",
       "      <th></th>\n",
       "      <th>user_id</th>\n",
       "      <th>date</th>\n",
       "      <th>browser</th>\n",
       "      <th>test</th>\n",
       "      <th>pages_visited</th>\n",
       "      <th>signup_date</th>\n",
       "    </tr>\n",
       "  </thead>\n",
       "  <tbody>\n",
       "    <tr>\n",
       "      <th>0</th>\n",
       "      <td>600597</td>\n",
       "      <td>2015-08-13</td>\n",
       "      <td>IE</td>\n",
       "      <td>0</td>\n",
       "      <td>2</td>\n",
       "      <td>2015-01-19</td>\n",
       "    </tr>\n",
       "    <tr>\n",
       "      <th>1</th>\n",
       "      <td>4410028</td>\n",
       "      <td>2015-08-26</td>\n",
       "      <td>Chrome</td>\n",
       "      <td>1</td>\n",
       "      <td>5</td>\n",
       "      <td>2015-05-11</td>\n",
       "    </tr>\n",
       "    <tr>\n",
       "      <th>2</th>\n",
       "      <td>6004777</td>\n",
       "      <td>2015-08-17</td>\n",
       "      <td>Chrome</td>\n",
       "      <td>0</td>\n",
       "      <td>8</td>\n",
       "      <td>2015-06-26</td>\n",
       "    </tr>\n",
       "    <tr>\n",
       "      <th>3</th>\n",
       "      <td>5990330</td>\n",
       "      <td>2015-08-27</td>\n",
       "      <td>Safari</td>\n",
       "      <td>0</td>\n",
       "      <td>8</td>\n",
       "      <td>2015-06-25</td>\n",
       "    </tr>\n",
       "    <tr>\n",
       "      <th>4</th>\n",
       "      <td>3622310</td>\n",
       "      <td>2015-08-07</td>\n",
       "      <td>Firefox</td>\n",
       "      <td>0</td>\n",
       "      <td>1</td>\n",
       "      <td>2015-04-17</td>\n",
       "    </tr>\n",
       "  </tbody>\n",
       "</table>\n",
       "</div>"
      ],
      "text/plain": [
       "   user_id        date  browser  test  pages_visited signup_date\n",
       "0   600597  2015-08-13       IE     0              2  2015-01-19\n",
       "1  4410028  2015-08-26   Chrome     1              5  2015-05-11\n",
       "2  6004777  2015-08-17   Chrome     0              8  2015-06-26\n",
       "3  5990330  2015-08-27   Safari     0              8  2015-06-25\n",
       "4  3622310  2015-08-07  Firefox     0              1  2015-04-17"
      ]
     },
     "execution_count": 72,
     "metadata": {},
     "output_type": "execute_result"
    }
   ],
   "source": [
    "data.head()"
   ]
  },
  {
   "cell_type": "code",
   "execution_count": 74,
   "metadata": {
    "collapsed": false
   },
   "outputs": [
    {
     "data": {
      "text/html": [
       "<div>\n",
       "<style>\n",
       "    .dataframe thead tr:only-child th {\n",
       "        text-align: right;\n",
       "    }\n",
       "\n",
       "    .dataframe thead th {\n",
       "        text-align: left;\n",
       "    }\n",
       "\n",
       "    .dataframe tbody tr th {\n",
       "        vertical-align: top;\n",
       "    }\n",
       "</style>\n",
       "<table border=\"1\" class=\"dataframe\">\n",
       "  <thead>\n",
       "    <tr style=\"text-align: right;\">\n",
       "      <th></th>\n",
       "      <th>conclusion</th>\n",
       "      <th>mean_ctrl</th>\n",
       "      <th>mean_test</th>\n",
       "      <th>n_ctrl</th>\n",
       "      <th>n_test</th>\n",
       "      <th>pvalue</th>\n",
       "      <th>test-ctrl</th>\n",
       "    </tr>\n",
       "    <tr>\n",
       "      <th>browser</th>\n",
       "      <th></th>\n",
       "      <th></th>\n",
       "      <th></th>\n",
       "      <th></th>\n",
       "      <th></th>\n",
       "      <th></th>\n",
       "      <th></th>\n",
       "    </tr>\n",
       "  </thead>\n",
       "  <tbody>\n",
       "    <tr>\n",
       "      <th>Chrome</th>\n",
       "      <td>significant</td>\n",
       "      <td>4.613341</td>\n",
       "      <td>4.690680</td>\n",
       "      <td>21453</td>\n",
       "      <td>21974</td>\n",
       "      <td>9.434084e-04</td>\n",
       "      <td>0.077339</td>\n",
       "    </tr>\n",
       "    <tr>\n",
       "      <th>Firefox</th>\n",
       "      <td>significant</td>\n",
       "      <td>4.600164</td>\n",
       "      <td>4.714259</td>\n",
       "      <td>10972</td>\n",
       "      <td>10786</td>\n",
       "      <td>5.817199e-04</td>\n",
       "      <td>0.114095</td>\n",
       "    </tr>\n",
       "    <tr>\n",
       "      <th>IE</th>\n",
       "      <td>significant</td>\n",
       "      <td>4.598478</td>\n",
       "      <td>4.685985</td>\n",
       "      <td>10906</td>\n",
       "      <td>10974</td>\n",
       "      <td>7.829509e-03</td>\n",
       "      <td>0.087507</td>\n",
       "    </tr>\n",
       "    <tr>\n",
       "      <th>Opera</th>\n",
       "      <td>significant</td>\n",
       "      <td>4.546438</td>\n",
       "      <td>0.000000</td>\n",
       "      <td>1109</td>\n",
       "      <td>1018</td>\n",
       "      <td>2.252939e-321</td>\n",
       "      <td>-4.546438</td>\n",
       "    </tr>\n",
       "    <tr>\n",
       "      <th>Safari</th>\n",
       "      <td>not significant</td>\n",
       "      <td>4.638180</td>\n",
       "      <td>4.692336</td>\n",
       "      <td>5406</td>\n",
       "      <td>5402</td>\n",
       "      <td>2.411738e-01</td>\n",
       "      <td>0.054156</td>\n",
       "    </tr>\n",
       "  </tbody>\n",
       "</table>\n",
       "</div>"
      ],
      "text/plain": [
       "              conclusion  mean_ctrl  mean_test  n_ctrl  n_test         pvalue  \\\n",
       "browser                                                                         \n",
       "Chrome       significant   4.613341   4.690680   21453   21974   9.434084e-04   \n",
       "Firefox      significant   4.600164   4.714259   10972   10786   5.817199e-04   \n",
       "IE           significant   4.598478   4.685985   10906   10974   7.829509e-03   \n",
       "Opera        significant   4.546438   0.000000    1109    1018  2.252939e-321   \n",
       "Safari   not significant   4.638180   4.692336    5406    5402   2.411738e-01   \n",
       "\n",
       "         test-ctrl  \n",
       "browser             \n",
       "Chrome    0.077339  \n",
       "Firefox   0.114095  \n",
       "IE        0.087507  \n",
       "Opera    -4.546438  \n",
       "Safari    0.054156  "
      ]
     },
     "execution_count": 74,
     "metadata": {},
     "output_type": "execute_result"
    }
   ],
   "source": [
    "data.groupby('browser').apply(run_ttest)"
   ]
  },
  {
   "cell_type": "code",
   "execution_count": 77,
   "metadata": {
    "collapsed": false
   },
   "outputs": [
    {
     "data": {
      "text/html": [
       "<div>\n",
       "<style>\n",
       "    .dataframe thead tr:only-child th {\n",
       "        text-align: right;\n",
       "    }\n",
       "\n",
       "    .dataframe thead th {\n",
       "        text-align: left;\n",
       "    }\n",
       "\n",
       "    .dataframe tbody tr th {\n",
       "        vertical-align: top;\n",
       "    }\n",
       "</style>\n",
       "<table border=\"1\" class=\"dataframe\">\n",
       "  <thead>\n",
       "    <tr style=\"text-align: right;\">\n",
       "      <th></th>\n",
       "      <th>user_id</th>\n",
       "      <th>date</th>\n",
       "      <th>browser</th>\n",
       "      <th>test</th>\n",
       "      <th>pages_visited</th>\n",
       "      <th>signup_date</th>\n",
       "    </tr>\n",
       "  </thead>\n",
       "  <tbody>\n",
       "    <tr>\n",
       "      <th>16</th>\n",
       "      <td>151456</td>\n",
       "      <td>2015-08-27</td>\n",
       "      <td>Opera</td>\n",
       "      <td>1</td>\n",
       "      <td>0</td>\n",
       "      <td>2015-01-05</td>\n",
       "    </tr>\n",
       "    <tr>\n",
       "      <th>52</th>\n",
       "      <td>2757666</td>\n",
       "      <td>2015-08-03</td>\n",
       "      <td>Opera</td>\n",
       "      <td>1</td>\n",
       "      <td>0</td>\n",
       "      <td>2015-03-23</td>\n",
       "    </tr>\n",
       "    <tr>\n",
       "      <th>290</th>\n",
       "      <td>2115329</td>\n",
       "      <td>2015-08-04</td>\n",
       "      <td>Opera</td>\n",
       "      <td>1</td>\n",
       "      <td>0</td>\n",
       "      <td>2015-03-03</td>\n",
       "    </tr>\n",
       "    <tr>\n",
       "      <th>295</th>\n",
       "      <td>4319847</td>\n",
       "      <td>2015-08-30</td>\n",
       "      <td>Opera</td>\n",
       "      <td>1</td>\n",
       "      <td>0</td>\n",
       "      <td>2015-05-08</td>\n",
       "    </tr>\n",
       "    <tr>\n",
       "      <th>297</th>\n",
       "      <td>8251676</td>\n",
       "      <td>2015-08-19</td>\n",
       "      <td>Opera</td>\n",
       "      <td>1</td>\n",
       "      <td>0</td>\n",
       "      <td>2015-08-19</td>\n",
       "    </tr>\n",
       "  </tbody>\n",
       "</table>\n",
       "</div>"
      ],
      "text/plain": [
       "     user_id        date browser  test  pages_visited signup_date\n",
       "16    151456  2015-08-27   Opera     1              0  2015-01-05\n",
       "52   2757666  2015-08-03   Opera     1              0  2015-03-23\n",
       "290  2115329  2015-08-04   Opera     1              0  2015-03-03\n",
       "295  4319847  2015-08-30   Opera     1              0  2015-05-08\n",
       "297  8251676  2015-08-19   Opera     1              0  2015-08-19"
      ]
     },
     "execution_count": 77,
     "metadata": {},
     "output_type": "execute_result"
    }
   ],
   "source": [
    "data.loc[(data['browser']=='Opera')&(data['test']==1)].head()"
   ]
  },
  {
   "cell_type": "markdown",
   "metadata": {},
   "source": [
    "# conclusion for question 2\n",
    "Improvement is significant for browsers like Chrome, Firefox, IE.\n",
    "In Opera, experiment group page visited are all ZERO. it shows a bug either in page visited count, or one bug which blocks user to further clicks. \n",
    "In Safari, the change in pages_visited is not significant. Maybe because in this browser, friend recommendation is not set up properly. "
   ]
  },
  {
   "cell_type": "code",
   "execution_count": 82,
   "metadata": {
    "collapsed": false
   },
   "outputs": [],
   "source": [
    "data['month']=data['date'].apply(lambda x:x.month)"
   ]
  },
  {
   "cell_type": "code",
   "execution_count": 87,
   "metadata": {
    "collapsed": false
   },
   "outputs": [
    {
     "data": {
      "text/plain": [
       "Timestamp('2015-08-01 00:00:00')"
      ]
     },
     "execution_count": 87,
     "metadata": {},
     "output_type": "execute_result"
    }
   ],
   "source": [
    "np.min(data.date)"
   ]
  },
  {
   "cell_type": "code",
   "execution_count": 88,
   "metadata": {
    "collapsed": false
   },
   "outputs": [
    {
     "data": {
      "text/plain": [
       "Timestamp('2015-08-31 00:00:00')"
      ]
     },
     "execution_count": 88,
     "metadata": {},
     "output_type": "execute_result"
    }
   ],
   "source": [
    "np.max(data.date)"
   ]
  },
  {
   "cell_type": "code",
   "execution_count": 100,
   "metadata": {
    "collapsed": false
   },
   "outputs": [],
   "source": [
    "data['days_latency']=(data['date']-data['signup_date']).dt.days"
   ]
  },
  {
   "cell_type": "code",
   "execution_count": 102,
   "metadata": {
    "collapsed": false
   },
   "outputs": [],
   "source": [
    "data['first_time']=data['days_latency'].apply(lambda x: True if x  == 0 else False)"
   ]
  },
  {
   "cell_type": "code",
   "execution_count": 103,
   "metadata": {
    "collapsed": false
   },
   "outputs": [
    {
     "data": {
      "text/html": [
       "<div>\n",
       "<style>\n",
       "    .dataframe thead tr:only-child th {\n",
       "        text-align: right;\n",
       "    }\n",
       "\n",
       "    .dataframe thead th {\n",
       "        text-align: left;\n",
       "    }\n",
       "\n",
       "    .dataframe tbody tr th {\n",
       "        vertical-align: top;\n",
       "    }\n",
       "</style>\n",
       "<table border=\"1\" class=\"dataframe\">\n",
       "  <thead>\n",
       "    <tr style=\"text-align: right;\">\n",
       "      <th></th>\n",
       "      <th>conclusion</th>\n",
       "      <th>mean_ctrl</th>\n",
       "      <th>mean_test</th>\n",
       "      <th>n_ctrl</th>\n",
       "      <th>n_test</th>\n",
       "      <th>pvalue</th>\n",
       "      <th>test-ctrl</th>\n",
       "    </tr>\n",
       "    <tr>\n",
       "      <th>first_time</th>\n",
       "      <th></th>\n",
       "      <th></th>\n",
       "      <th></th>\n",
       "      <th></th>\n",
       "      <th></th>\n",
       "      <th></th>\n",
       "      <th></th>\n",
       "    </tr>\n",
       "  </thead>\n",
       "  <tbody>\n",
       "    <tr>\n",
       "      <th>False</th>\n",
       "      <td>not significant</td>\n",
       "      <td>4.603284</td>\n",
       "      <td>4.622379</td>\n",
       "      <td>39890</td>\n",
       "      <td>40109</td>\n",
       "      <td>0.261837</td>\n",
       "      <td>0.019095</td>\n",
       "    </tr>\n",
       "    <tr>\n",
       "      <th>True</th>\n",
       "      <td>significant</td>\n",
       "      <td>4.628867</td>\n",
       "      <td>4.509109</td>\n",
       "      <td>9956</td>\n",
       "      <td>10045</td>\n",
       "      <td>0.001742</td>\n",
       "      <td>-0.119758</td>\n",
       "    </tr>\n",
       "  </tbody>\n",
       "</table>\n",
       "</div>"
      ],
      "text/plain": [
       "                 conclusion  mean_ctrl  mean_test  n_ctrl  n_test    pvalue  \\\n",
       "first_time                                                                    \n",
       "False       not significant   4.603284   4.622379   39890   40109  0.261837   \n",
       "True            significant   4.628867   4.509109    9956   10045  0.001742   \n",
       "\n",
       "            test-ctrl  \n",
       "first_time             \n",
       "False        0.019095  \n",
       "True        -0.119758  "
      ]
     },
     "execution_count": 103,
     "metadata": {},
     "output_type": "execute_result"
    }
   ],
   "source": [
    "data.groupby('first_time').apply(run_ttest)"
   ]
  },
  {
   "cell_type": "markdown",
   "metadata": {},
   "source": [
    "# conclusion\n",
    "This experiment is significant for new sign up users. And in experiment group, users' pages visited are less than control group, which is different from experiment expectation.\n",
    "while for existing users, experiment group pages visited are slightly higher than control group, while this change is not significant. \n"
   ]
  },
  {
   "cell_type": "code",
   "execution_count": 104,
   "metadata": {
    "collapsed": false
   },
   "outputs": [
    {
     "data": {
      "text/html": [
       "<div>\n",
       "<style>\n",
       "    .dataframe thead tr:only-child th {\n",
       "        text-align: right;\n",
       "    }\n",
       "\n",
       "    .dataframe thead th {\n",
       "        text-align: left;\n",
       "    }\n",
       "\n",
       "    .dataframe tbody tr th {\n",
       "        vertical-align: top;\n",
       "    }\n",
       "</style>\n",
       "<table border=\"1\" class=\"dataframe\">\n",
       "  <thead>\n",
       "    <tr style=\"text-align: right;\">\n",
       "      <th></th>\n",
       "      <th></th>\n",
       "      <th>conclusion</th>\n",
       "      <th>mean_ctrl</th>\n",
       "      <th>mean_test</th>\n",
       "      <th>n_ctrl</th>\n",
       "      <th>n_test</th>\n",
       "      <th>pvalue</th>\n",
       "      <th>test-ctrl</th>\n",
       "    </tr>\n",
       "    <tr>\n",
       "      <th>browser</th>\n",
       "      <th>first_time</th>\n",
       "      <th></th>\n",
       "      <th></th>\n",
       "      <th></th>\n",
       "      <th></th>\n",
       "      <th></th>\n",
       "      <th></th>\n",
       "      <th></th>\n",
       "    </tr>\n",
       "  </thead>\n",
       "  <tbody>\n",
       "    <tr>\n",
       "      <th rowspan=\"2\" valign=\"top\">Chrome</th>\n",
       "      <th>False</th>\n",
       "      <td>significant</td>\n",
       "      <td>4.607945</td>\n",
       "      <td>4.701512</td>\n",
       "      <td>17092</td>\n",
       "      <td>17525</td>\n",
       "      <td>2.290889e-04</td>\n",
       "      <td>0.093567</td>\n",
       "    </tr>\n",
       "    <tr>\n",
       "      <th>True</th>\n",
       "      <td>not significant</td>\n",
       "      <td>4.634488</td>\n",
       "      <td>4.648011</td>\n",
       "      <td>4361</td>\n",
       "      <td>4449</td>\n",
       "      <td>8.149175e-01</td>\n",
       "      <td>0.013523</td>\n",
       "    </tr>\n",
       "    <tr>\n",
       "      <th rowspan=\"2\" valign=\"top\">Firefox</th>\n",
       "      <th>False</th>\n",
       "      <td>significant</td>\n",
       "      <td>4.590590</td>\n",
       "      <td>4.757306</td>\n",
       "      <td>8842</td>\n",
       "      <td>8657</td>\n",
       "      <td>3.692901e-06</td>\n",
       "      <td>0.166716</td>\n",
       "    </tr>\n",
       "    <tr>\n",
       "      <th>True</th>\n",
       "      <td>not significant</td>\n",
       "      <td>4.639906</td>\n",
       "      <td>4.539220</td>\n",
       "      <td>2130</td>\n",
       "      <td>2129</td>\n",
       "      <td>2.210706e-01</td>\n",
       "      <td>-0.100686</td>\n",
       "    </tr>\n",
       "    <tr>\n",
       "      <th rowspan=\"2\" valign=\"top\">IE</th>\n",
       "      <th>False</th>\n",
       "      <td>significant</td>\n",
       "      <td>4.590576</td>\n",
       "      <td>4.721494</td>\n",
       "      <td>8744</td>\n",
       "      <td>8779</td>\n",
       "      <td>2.669847e-04</td>\n",
       "      <td>0.130918</td>\n",
       "    </tr>\n",
       "    <tr>\n",
       "      <th>True</th>\n",
       "      <td>not significant</td>\n",
       "      <td>4.630435</td>\n",
       "      <td>4.543964</td>\n",
       "      <td>2162</td>\n",
       "      <td>2195</td>\n",
       "      <td>2.808421e-01</td>\n",
       "      <td>-0.086471</td>\n",
       "    </tr>\n",
       "    <tr>\n",
       "      <th rowspan=\"2\" valign=\"top\">Opera</th>\n",
       "      <th>False</th>\n",
       "      <td>significant</td>\n",
       "      <td>4.594564</td>\n",
       "      <td>0.000000</td>\n",
       "      <td>883</td>\n",
       "      <td>833</td>\n",
       "      <td>7.204927e-255</td>\n",
       "      <td>-4.594564</td>\n",
       "    </tr>\n",
       "    <tr>\n",
       "      <th>True</th>\n",
       "      <td>significant</td>\n",
       "      <td>4.358407</td>\n",
       "      <td>0.000000</td>\n",
       "      <td>226</td>\n",
       "      <td>185</td>\n",
       "      <td>1.222949e-68</td>\n",
       "      <td>-4.358407</td>\n",
       "    </tr>\n",
       "    <tr>\n",
       "      <th rowspan=\"2\" valign=\"top\">Safari</th>\n",
       "      <th>False</th>\n",
       "      <td>not significant</td>\n",
       "      <td>4.638254</td>\n",
       "      <td>4.720973</td>\n",
       "      <td>4329</td>\n",
       "      <td>4315</td>\n",
       "      <td>1.000829e-01</td>\n",
       "      <td>0.082720</td>\n",
       "    </tr>\n",
       "    <tr>\n",
       "      <th>True</th>\n",
       "      <td>not significant</td>\n",
       "      <td>4.637883</td>\n",
       "      <td>4.578657</td>\n",
       "      <td>1077</td>\n",
       "      <td>1087</td>\n",
       "      <td>6.015241e-01</td>\n",
       "      <td>-0.059226</td>\n",
       "    </tr>\n",
       "  </tbody>\n",
       "</table>\n",
       "</div>"
      ],
      "text/plain": [
       "                         conclusion  mean_ctrl  mean_test  n_ctrl  n_test  \\\n",
       "browser first_time                                                          \n",
       "Chrome  False           significant   4.607945   4.701512   17092   17525   \n",
       "        True        not significant   4.634488   4.648011    4361    4449   \n",
       "Firefox False           significant   4.590590   4.757306    8842    8657   \n",
       "        True        not significant   4.639906   4.539220    2130    2129   \n",
       "IE      False           significant   4.590576   4.721494    8744    8779   \n",
       "        True        not significant   4.630435   4.543964    2162    2195   \n",
       "Opera   False           significant   4.594564   0.000000     883     833   \n",
       "        True            significant   4.358407   0.000000     226     185   \n",
       "Safari  False       not significant   4.638254   4.720973    4329    4315   \n",
       "        True        not significant   4.637883   4.578657    1077    1087   \n",
       "\n",
       "                           pvalue  test-ctrl  \n",
       "browser first_time                            \n",
       "Chrome  False        2.290889e-04   0.093567  \n",
       "        True         8.149175e-01   0.013523  \n",
       "Firefox False        3.692901e-06   0.166716  \n",
       "        True         2.210706e-01  -0.100686  \n",
       "IE      False        2.669847e-04   0.130918  \n",
       "        True         2.808421e-01  -0.086471  \n",
       "Opera   False       7.204927e-255  -4.594564  \n",
       "        True         1.222949e-68  -4.358407  \n",
       "Safari  False        1.000829e-01   0.082720  \n",
       "        True         6.015241e-01  -0.059226  "
      ]
     },
     "execution_count": 104,
     "metadata": {},
     "output_type": "execute_result"
    }
   ],
   "source": [
    "data.groupby(['browser','first_time']).apply(run_ttest)"
   ]
  },
  {
   "cell_type": "markdown",
   "metadata": {},
   "source": [
    "Overall recommendation is:\n",
    "Recommend 5 users can significant improve user engagement for certain browsers, Chrome, Firefox, IE. Especially, it works well for existing users.\n",
    "We need to double check for Opera, data showed some issues in either data collection, or feature implementation part. \n",
    "For Safari, it looks probelmatic as well. \n"
   ]
  }
 ],
 "metadata": {
  "kernelspec": {
   "display_name": "Python 3",
   "language": "python",
   "name": "python3"
  },
  "language_info": {
   "codemirror_mode": {
    "name": "ipython",
    "version": 3
   },
   "file_extension": ".py",
   "mimetype": "text/x-python",
   "name": "python",
   "nbconvert_exporter": "python",
   "pygments_lexer": "ipython3",
   "version": "3.5.2"
  }
 },
 "nbformat": 4,
 "nbformat_minor": 2
}

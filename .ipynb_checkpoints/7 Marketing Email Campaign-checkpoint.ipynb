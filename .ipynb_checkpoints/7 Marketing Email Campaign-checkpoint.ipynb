{
 "cells": [
  {
   "cell_type": "markdown",
   "metadata": {
    "deletable": true,
    "editable": true
   },
   "source": [
    "# Goal\n",
    "Optimizing marketing campaigns is one of the most common data science tasks. Among the many possible marketing tools, one of the most eﬃcient is using emails. Emails are great cause they are free and can be easily personalized. Email optimization involves personalizing the text and/or the subject, who should receive it, when should be sent, etc. Machine Learning excels at this. Challenge Description\n",
    "\n",
    "The marketing team of an e-commerce site has launched an email campaign. This site has email addresses from all the users who created an account in the past. They have chosen a random sample of users and emailed them. The email let the user know about a new feature implemented on the site. From the marketing team perspective, a success is if the user clicks on the link inside of the email. This link takes the user to the company site. \n",
    "\n",
    "You are in charge of ﬁguring out how the email campaign performed and were asked the following questions: \n",
    "1)What percentage of users opened the email and what percentage clicked on the link within the email? \n",
    "2)The VP of marketing thinks that it is stupid to send emails to a random subset and in a random way. Based on all the information you have about the emails that were sent, can you build a model to optimize in future email campaigns to maximize the probability of users clicking on the link inside the email? \n",
    "3)By how much do you think your model would improve click through rate ( deﬁned as # of users who click on the link / total users who received the email). \n",
    "4)How would you test that? Did you ﬁnd any interesting pattern on how the email campaign performed for diﬀerent segments of users? Explain.\n"
   ]
  },
  {
   "cell_type": "code",
   "execution_count": 164,
   "metadata": {
    "collapsed": true,
    "deletable": true,
    "editable": true
   },
   "outputs": [],
   "source": [
    "#data read from input file \n",
    "import numpy as np\n",
    "import pandas as pd\n",
    "from scipy import stats\n",
    "import seaborn as sns\n",
    "import matplotlib.pyplot as plt\n",
    "\n",
    "\n",
    "emailOpen_file='data/email/email_opened_table.csv'\n",
    "email_file='data/email/email_table.csv'\n",
    "linkClicked_file='data/email/link_clicked_table.csv'\n",
    "\n",
    "emailOpen=pd.read_csv(emailOpen_file)\n",
    "email=pd.read_csv(email_file,index_col=\"email_id\")\n",
    "linkClicked=pd.read_csv(linkClicked_file)\n"
   ]
  },
  {
   "cell_type": "code",
   "execution_count": 165,
   "metadata": {
    "collapsed": false,
    "deletable": true,
    "editable": true
   },
   "outputs": [
    {
     "data": {
      "text/html": [
       "<div>\n",
       "<style>\n",
       "    .dataframe thead tr:only-child th {\n",
       "        text-align: right;\n",
       "    }\n",
       "\n",
       "    .dataframe thead th {\n",
       "        text-align: left;\n",
       "    }\n",
       "\n",
       "    .dataframe tbody tr th {\n",
       "        vertical-align: top;\n",
       "    }\n",
       "</style>\n",
       "<table border=\"1\" class=\"dataframe\">\n",
       "  <thead>\n",
       "    <tr style=\"text-align: right;\">\n",
       "      <th></th>\n",
       "      <th>email_text</th>\n",
       "      <th>email_version</th>\n",
       "      <th>hour</th>\n",
       "      <th>weekday</th>\n",
       "      <th>user_country</th>\n",
       "      <th>user_past_purchases</th>\n",
       "    </tr>\n",
       "    <tr>\n",
       "      <th>email_id</th>\n",
       "      <th></th>\n",
       "      <th></th>\n",
       "      <th></th>\n",
       "      <th></th>\n",
       "      <th></th>\n",
       "      <th></th>\n",
       "    </tr>\n",
       "  </thead>\n",
       "  <tbody>\n",
       "    <tr>\n",
       "      <th>85120</th>\n",
       "      <td>short_email</td>\n",
       "      <td>personalized</td>\n",
       "      <td>2</td>\n",
       "      <td>Sunday</td>\n",
       "      <td>US</td>\n",
       "      <td>5</td>\n",
       "    </tr>\n",
       "    <tr>\n",
       "      <th>966622</th>\n",
       "      <td>long_email</td>\n",
       "      <td>personalized</td>\n",
       "      <td>12</td>\n",
       "      <td>Sunday</td>\n",
       "      <td>UK</td>\n",
       "      <td>2</td>\n",
       "    </tr>\n",
       "    <tr>\n",
       "      <th>777221</th>\n",
       "      <td>long_email</td>\n",
       "      <td>personalized</td>\n",
       "      <td>11</td>\n",
       "      <td>Wednesday</td>\n",
       "      <td>US</td>\n",
       "      <td>2</td>\n",
       "    </tr>\n",
       "    <tr>\n",
       "      <th>493711</th>\n",
       "      <td>short_email</td>\n",
       "      <td>generic</td>\n",
       "      <td>6</td>\n",
       "      <td>Monday</td>\n",
       "      <td>UK</td>\n",
       "      <td>1</td>\n",
       "    </tr>\n",
       "    <tr>\n",
       "      <th>106887</th>\n",
       "      <td>long_email</td>\n",
       "      <td>generic</td>\n",
       "      <td>14</td>\n",
       "      <td>Monday</td>\n",
       "      <td>US</td>\n",
       "      <td>6</td>\n",
       "    </tr>\n",
       "  </tbody>\n",
       "</table>\n",
       "</div>"
      ],
      "text/plain": [
       "           email_text email_version  hour    weekday user_country  \\\n",
       "email_id                                                            \n",
       "85120     short_email  personalized     2     Sunday           US   \n",
       "966622     long_email  personalized    12     Sunday           UK   \n",
       "777221     long_email  personalized    11  Wednesday           US   \n",
       "493711    short_email       generic     6     Monday           UK   \n",
       "106887     long_email       generic    14     Monday           US   \n",
       "\n",
       "          user_past_purchases  \n",
       "email_id                       \n",
       "85120                       5  \n",
       "966622                      2  \n",
       "777221                      2  \n",
       "493711                      1  \n",
       "106887                      6  "
      ]
     },
     "execution_count": 165,
     "metadata": {},
     "output_type": "execute_result"
    }
   ],
   "source": [
    "emailOpen.head()\n",
    "linkClicked.head()\n",
    "email.head()\n",
    "#emailOpen[emailOpen[\"email_id\"]==966622] "
   ]
  },
  {
   "cell_type": "code",
   "execution_count": 166,
   "metadata": {
    "collapsed": false,
    "deletable": true,
    "editable": true
   },
   "outputs": [],
   "source": [
    "data=email\n",
    "data[\"email_status\"]=0\n",
    "email_open_id=emailOpen[\"email_id\"]\n",
    "\n",
    "data.loc[email_open_id,\"email_status\"]=1"
   ]
  },
  {
   "cell_type": "code",
   "execution_count": 167,
   "metadata": {
    "collapsed": false,
    "deletable": true,
    "editable": true
   },
   "outputs": [
    {
     "data": {
      "text/plain": [
       "email_status  link_status\n",
       "0             0              89605\n",
       "              1                 50\n",
       "1             0               8276\n",
       "              1               2069\n",
       "dtype: int64"
      ]
     },
     "execution_count": 167,
     "metadata": {},
     "output_type": "execute_result"
    }
   ],
   "source": [
    "data[\"link_status\"]=0\n",
    "\n",
    "data.loc[linkClicked[\"email_id\"],\"link_status\"]=1\n",
    "data.groupby([\"email_status\",\"link_status\"]).size()\n",
    "#found 50 records with email not opened but links get clicked, we treat this data as error data\n"
   ]
  },
  {
   "cell_type": "code",
   "execution_count": 168,
   "metadata": {
    "collapsed": false
   },
   "outputs": [
    {
     "data": {
      "text/plain": [
       "email_status  link_status\n",
       "0             0              89605\n",
       "1             0               8276\n",
       "              1               2069\n",
       "dtype: int64"
      ]
     },
     "execution_count": 168,
     "metadata": {},
     "output_type": "execute_result"
    }
   ],
   "source": [
    "data=data[(data[\"email_status\"]==1)| (data[\"link_status\"]==0)]\n",
    "\n",
    "data.groupby([\"email_status\",\"link_status\"]).size()"
   ]
  },
  {
   "cell_type": "code",
   "execution_count": 169,
   "metadata": {
    "collapsed": false,
    "deletable": true,
    "editable": true
   },
   "outputs": [
    {
     "data": {
      "text/plain": [
       "email_text\n",
       "long_email     0.091228\n",
       "short_email    0.115911\n",
       "Name: email_status, dtype: float64"
      ]
     },
     "execution_count": 169,
     "metadata": {},
     "output_type": "execute_result"
    }
   ],
   "source": [
    "data.head()\n",
    "data.groupby(\"email_text\")[\"email_status\"].mean() #check based on long/short text email, user open email ratio\n"
   ]
  },
  {
   "cell_type": "markdown",
   "metadata": {
    "deletable": true,
    "editable": true
   },
   "source": [
    "for short emails, open ratio is 11%, wile for long ones open ratio is 9% "
   ]
  },
  {
   "cell_type": "code",
   "execution_count": 170,
   "metadata": {
    "collapsed": false,
    "deletable": true,
    "editable": true
   },
   "outputs": [
    {
     "data": {
      "text/plain": [
       "email_text\n",
       "long_email     0.017991\n",
       "short_email    0.023440\n",
       "Name: link_status, dtype: float64"
      ]
     },
     "execution_count": 170,
     "metadata": {},
     "output_type": "execute_result"
    }
   ],
   "source": [
    "data.groupby(\"email_text\")[\"link_status\"].mean() #check based on long/short text email, user open email ratio"
   ]
  },
  {
   "cell_type": "markdown",
   "metadata": {
    "deletable": true,
    "editable": true
   },
   "source": [
    "for short email, link clicked ratio is 2%, compared to long ones, which is 1.8%"
   ]
  },
  {
   "cell_type": "code",
   "execution_count": 171,
   "metadata": {
    "collapsed": false,
    "deletable": true,
    "editable": true
   },
   "outputs": [
    {
     "data": {
      "text/plain": [
       "email_text   email_version\n",
       "long_email   generic          0.070856\n",
       "             personalized     0.111755\n",
       "short_email  generic          0.088028\n",
       "             personalized     0.144035\n",
       "Name: email_status, dtype: float64"
      ]
     },
     "execution_count": 171,
     "metadata": {},
     "output_type": "execute_result"
    }
   ],
   "source": [
    "data.groupby([\"email_text\",\"email_version\"])[\"email_status\"].mean() #check based on long/short text email, user open email ratio"
   ]
  },
  {
   "cell_type": "code",
   "execution_count": 172,
   "metadata": {
    "collapsed": false,
    "deletable": true,
    "editable": true
   },
   "outputs": [
    {
     "data": {
      "text/plain": [
       "email_text   email_version\n",
       "long_email   generic          0.013085\n",
       "             personalized     0.022934\n",
       "short_email  generic          0.015987\n",
       "             personalized     0.030957\n",
       "Name: link_status, dtype: float64"
      ]
     },
     "execution_count": 172,
     "metadata": {},
     "output_type": "execute_result"
    }
   ],
   "source": [
    "data.groupby([\"email_text\",\"email_version\"])[\"link_status\"].mean() #check based on long/short text email, user open email ratio\n"
   ]
  },
  {
   "cell_type": "code",
   "execution_count": 173,
   "metadata": {
    "collapsed": false,
    "deletable": true,
    "editable": true
   },
   "outputs": [
    {
     "data": {
      "text/plain": [
       "email_status\n",
       "0    0.0\n",
       "1    0.2\n",
       "Name: link_status, dtype: float64"
      ]
     },
     "execution_count": 173,
     "metadata": {},
     "output_type": "execute_result"
    }
   ],
   "source": [
    "data.groupby(\"email_status\")[\"link_status\"].mean()\n",
    "#among emails which are not opened, there are some error message showing link were clicked\n",
    "#among emails which are opened, 20% of them with links clicked "
   ]
  },
  {
   "cell_type": "code",
   "execution_count": 174,
   "metadata": {
    "collapsed": false,
    "deletable": true,
    "editable": true
   },
   "outputs": [
    {
     "data": {
      "text/plain": [
       "0.020700350175087544"
      ]
     },
     "execution_count": 174,
     "metadata": {},
     "output_type": "execute_result"
    }
   ],
   "source": [
    "data[\"email_status\"].mean() #10%\n",
    "data[\"link_status\"].mean() #2.1%"
   ]
  },
  {
   "cell_type": "markdown",
   "metadata": {
    "deletable": true,
    "editable": true
   },
   "source": [
    "## Question 1:\n",
    "    Overall 10% email were opened, 2.1% of link get clicked. \n",
    "    For different email settings, open ratio and click ratio are different. Short message with personalized content with highest open ratio and click ratio, which are 14% and 3.1% respectively. \n",
    "    \n",
    "    "
   ]
  },
  {
   "cell_type": "markdown",
   "metadata": {
    "collapsed": true,
    "deletable": true,
    "editable": true
   },
   "source": [
    "## step2 build a decision tree to optimize email campaign\n"
   ]
  },
  {
   "cell_type": "code",
   "execution_count": 175,
   "metadata": {
    "collapsed": false
   },
   "outputs": [
    {
     "data": {
      "text/html": [
       "<div>\n",
       "<style>\n",
       "    .dataframe thead tr:only-child th {\n",
       "        text-align: right;\n",
       "    }\n",
       "\n",
       "    .dataframe thead th {\n",
       "        text-align: left;\n",
       "    }\n",
       "\n",
       "    .dataframe tbody tr th {\n",
       "        vertical-align: top;\n",
       "    }\n",
       "</style>\n",
       "<table border=\"1\" class=\"dataframe\">\n",
       "  <thead>\n",
       "    <tr style=\"text-align: right;\">\n",
       "      <th></th>\n",
       "      <th>email_text</th>\n",
       "      <th>email_version</th>\n",
       "      <th>hour</th>\n",
       "      <th>weekday</th>\n",
       "      <th>user_country</th>\n",
       "      <th>user_past_purchases</th>\n",
       "      <th>email_status</th>\n",
       "      <th>link_status</th>\n",
       "    </tr>\n",
       "    <tr>\n",
       "      <th>email_id</th>\n",
       "      <th></th>\n",
       "      <th></th>\n",
       "      <th></th>\n",
       "      <th></th>\n",
       "      <th></th>\n",
       "      <th></th>\n",
       "      <th></th>\n",
       "      <th></th>\n",
       "    </tr>\n",
       "  </thead>\n",
       "  <tbody>\n",
       "    <tr>\n",
       "      <th>85120</th>\n",
       "      <td>short_email</td>\n",
       "      <td>personalized</td>\n",
       "      <td>2</td>\n",
       "      <td>Sunday</td>\n",
       "      <td>US</td>\n",
       "      <td>5</td>\n",
       "      <td>0</td>\n",
       "      <td>0</td>\n",
       "    </tr>\n",
       "    <tr>\n",
       "      <th>966622</th>\n",
       "      <td>long_email</td>\n",
       "      <td>personalized</td>\n",
       "      <td>12</td>\n",
       "      <td>Sunday</td>\n",
       "      <td>UK</td>\n",
       "      <td>2</td>\n",
       "      <td>1</td>\n",
       "      <td>1</td>\n",
       "    </tr>\n",
       "    <tr>\n",
       "      <th>777221</th>\n",
       "      <td>long_email</td>\n",
       "      <td>personalized</td>\n",
       "      <td>11</td>\n",
       "      <td>Wednesday</td>\n",
       "      <td>US</td>\n",
       "      <td>2</td>\n",
       "      <td>0</td>\n",
       "      <td>0</td>\n",
       "    </tr>\n",
       "    <tr>\n",
       "      <th>493711</th>\n",
       "      <td>short_email</td>\n",
       "      <td>generic</td>\n",
       "      <td>6</td>\n",
       "      <td>Monday</td>\n",
       "      <td>UK</td>\n",
       "      <td>1</td>\n",
       "      <td>0</td>\n",
       "      <td>0</td>\n",
       "    </tr>\n",
       "    <tr>\n",
       "      <th>106887</th>\n",
       "      <td>long_email</td>\n",
       "      <td>generic</td>\n",
       "      <td>14</td>\n",
       "      <td>Monday</td>\n",
       "      <td>US</td>\n",
       "      <td>6</td>\n",
       "      <td>0</td>\n",
       "      <td>0</td>\n",
       "    </tr>\n",
       "  </tbody>\n",
       "</table>\n",
       "</div>"
      ],
      "text/plain": [
       "           email_text email_version  hour    weekday user_country  \\\n",
       "email_id                                                            \n",
       "85120     short_email  personalized     2     Sunday           US   \n",
       "966622     long_email  personalized    12     Sunday           UK   \n",
       "777221     long_email  personalized    11  Wednesday           US   \n",
       "493711    short_email       generic     6     Monday           UK   \n",
       "106887     long_email       generic    14     Monday           US   \n",
       "\n",
       "          user_past_purchases  email_status  link_status  \n",
       "email_id                                                  \n",
       "85120                       5             0            0  \n",
       "966622                      2             1            1  \n",
       "777221                      2             0            0  \n",
       "493711                      1             0            0  \n",
       "106887                      6             0            0  "
      ]
     },
     "execution_count": 175,
     "metadata": {},
     "output_type": "execute_result"
    }
   ],
   "source": [
    "data.head()"
   ]
  },
  {
   "cell_type": "code",
   "execution_count": 180,
   "metadata": {
    "collapsed": false
   },
   "outputs": [],
   "source": [
    "#trainingdata=data.loc[:,[\"hour\",\"user_past_purchases\"]]\n",
    "label=data[\"link_status\"]\n",
    "data_2=data\n"
   ]
  },
  {
   "cell_type": "code",
   "execution_count": 181,
   "metadata": {
    "collapsed": false
   },
   "outputs": [
    {
     "data": {
      "text/html": [
       "<div>\n",
       "<style>\n",
       "    .dataframe thead tr:only-child th {\n",
       "        text-align: right;\n",
       "    }\n",
       "\n",
       "    .dataframe thead th {\n",
       "        text-align: left;\n",
       "    }\n",
       "\n",
       "    .dataframe tbody tr th {\n",
       "        vertical-align: top;\n",
       "    }\n",
       "</style>\n",
       "<table border=\"1\" class=\"dataframe\">\n",
       "  <thead>\n",
       "    <tr style=\"text-align: right;\">\n",
       "      <th></th>\n",
       "      <th>email_text</th>\n",
       "      <th>email_version</th>\n",
       "      <th>hour</th>\n",
       "      <th>weekday</th>\n",
       "      <th>user_country</th>\n",
       "      <th>user_past_purchases</th>\n",
       "    </tr>\n",
       "    <tr>\n",
       "      <th>email_id</th>\n",
       "      <th></th>\n",
       "      <th></th>\n",
       "      <th></th>\n",
       "      <th></th>\n",
       "      <th></th>\n",
       "      <th></th>\n",
       "    </tr>\n",
       "  </thead>\n",
       "  <tbody>\n",
       "    <tr>\n",
       "      <th>85120</th>\n",
       "      <td>short_email</td>\n",
       "      <td>personalized</td>\n",
       "      <td>2</td>\n",
       "      <td>Sunday</td>\n",
       "      <td>US</td>\n",
       "      <td>5</td>\n",
       "    </tr>\n",
       "    <tr>\n",
       "      <th>966622</th>\n",
       "      <td>long_email</td>\n",
       "      <td>personalized</td>\n",
       "      <td>12</td>\n",
       "      <td>Sunday</td>\n",
       "      <td>UK</td>\n",
       "      <td>2</td>\n",
       "    </tr>\n",
       "    <tr>\n",
       "      <th>777221</th>\n",
       "      <td>long_email</td>\n",
       "      <td>personalized</td>\n",
       "      <td>11</td>\n",
       "      <td>Wednesday</td>\n",
       "      <td>US</td>\n",
       "      <td>2</td>\n",
       "    </tr>\n",
       "    <tr>\n",
       "      <th>493711</th>\n",
       "      <td>short_email</td>\n",
       "      <td>generic</td>\n",
       "      <td>6</td>\n",
       "      <td>Monday</td>\n",
       "      <td>UK</td>\n",
       "      <td>1</td>\n",
       "    </tr>\n",
       "    <tr>\n",
       "      <th>106887</th>\n",
       "      <td>long_email</td>\n",
       "      <td>generic</td>\n",
       "      <td>14</td>\n",
       "      <td>Monday</td>\n",
       "      <td>US</td>\n",
       "      <td>6</td>\n",
       "    </tr>\n",
       "  </tbody>\n",
       "</table>\n",
       "</div>"
      ],
      "text/plain": [
       "           email_text email_version  hour    weekday user_country  \\\n",
       "email_id                                                            \n",
       "85120     short_email  personalized     2     Sunday           US   \n",
       "966622     long_email  personalized    12     Sunday           UK   \n",
       "777221     long_email  personalized    11  Wednesday           US   \n",
       "493711    short_email       generic     6     Monday           UK   \n",
       "106887     long_email       generic    14     Monday           US   \n",
       "\n",
       "          user_past_purchases  \n",
       "email_id                       \n",
       "85120                       5  \n",
       "966622                      2  \n",
       "777221                      2  \n",
       "493711                      1  \n",
       "106887                      6  "
      ]
     },
     "execution_count": 181,
     "metadata": {},
     "output_type": "execute_result"
    }
   ],
   "source": [
    "data_2=data_2.drop([\"email_status\",\"link_status\"],axis=1) \n",
    "data_2.head()\n"
   ]
  },
  {
   "cell_type": "code",
   "execution_count": 182,
   "metadata": {
    "collapsed": false
   },
   "outputs": [],
   "source": [
    "data_2=pd.get_dummies(data_2, prefix=[\"email_text\",\"email_version\",\"weekday\",\"user_country\"],drop_first=True)\n"
   ]
  },
  {
   "cell_type": "code",
   "execution_count": 185,
   "metadata": {
    "collapsed": false
   },
   "outputs": [],
   "source": [
    "data_2.head()\n",
    "labels=list(data_2)\n",
    "\n",
    "#data_3=np.concatenate((data_2, trainingdata),axis=1)\n"
   ]
  },
  {
   "cell_type": "code",
   "execution_count": 214,
   "metadata": {
    "collapsed": false
   },
   "outputs": [],
   "source": [
    "from sklearn import tree\n",
    "from sklearn.tree import DecisionTreeClassifier, export_graphviz\n",
    "from sklearn.model_selection import train_test_split\n",
    "from sklearn.metrics import accuracy_score\n",
    "from sklearn.metrics import confusion_matrix\n",
    "\n"
   ]
  },
  {
   "cell_type": "code",
   "execution_count": 249,
   "metadata": {
    "collapsed": false
   },
   "outputs": [
    {
     "name": "stdout",
     "output_type": "stream",
     "text": [
      "Accuracy: 63.34%\n",
      "Confusion matrix:\n",
      " [[18581 10772]\n",
      " [  221   411]]\n"
     ]
    }
   ],
   "source": [
    "clf = tree.DecisionTreeClassifier(max_depth=10,class_weight =\"balanced\")#\n",
    "\n",
    "#class_weight=balanced has improved model performance a lot \n",
    "X_train, X_test, y_train, y_test = train_test_split(data_2, label, test_size=0.3)\n",
    "\n",
    "clf = clf.fit(X_train,y_train)\n",
    "y_pred = clf.predict(X_test)\n",
    " \n",
    "accuracy = accuracy_score(y_test, y_pred)\n",
    "print(\"Accuracy: %.2f%%\" % (accuracy * 100.0))\n",
    "\n",
    "conf_mat = confusion_matrix(y_true=y_test, y_pred=y_pred)\n",
    "print('Confusion matrix:\\n', conf_mat)\n",
    "#\n"
   ]
  },
  {
   "cell_type": "code",
   "execution_count": 250,
   "metadata": {
    "collapsed": false
   },
   "outputs": [
    {
     "name": "stdout",
     "output_type": "stream",
     "text": [
      "0.020538840849\n",
      "69965\n",
      "0.0210772052693\n",
      "29985\n"
     ]
    }
   ],
   "source": [
    "print(y_train.mean())#avg click ratio is 2%\n",
    "print(y_train.count())#total records 69965\n",
    "\n",
    "print(y_test.mean())#avg click ratio is 2%\n",
    "print(y_test.count())#total records in test dataset 29985\n"
   ]
  },
  {
   "cell_type": "code",
   "execution_count": 251,
   "metadata": {
    "collapsed": false
   },
   "outputs": [
    {
     "name": "stdout",
     "output_type": "stream",
     "text": [
      "precision is 0.036752213180720736\n",
      "recall is 0.6503164556962026\n"
     ]
    }
   ],
   "source": [
    "tn, fp, fn, tp = conf_mat.ravel()\n",
    "print(\"precision is {0}\".format(tp/(tp+fp)))\n",
    "print(\"recall is {0}\".format(tp/(tp+fn)))\n",
    "\n",
    "# when using class_weight=balance, precision can be 3.6%, and recall is 65%\n",
    "# when not using class_weight=balance, precision can be 12%, but recall is only 0.3%"
   ]
  },
  {
   "cell_type": "markdown",
   "metadata": {},
   "source": [
    "### conclusion for question 3\n",
    "when using decision tree model to select customer who should receive this camgpaign email, we can expect user click ratio to be improved to 3.6%, which is 1.8 times better than current click ratio. \n"
   ]
  },
  {
   "cell_type": "code",
   "execution_count": 243,
   "metadata": {
    "collapsed": false
   },
   "outputs": [
    {
     "name": "stdout",
     "output_type": "stream",
     "text": [
      "user_past_purchases | 0.49266\n",
      "hour       | 0.19218\n",
      "email_version_personalized | 0.06729\n",
      "user_country_FR | 0.04679\n",
      "email_text_short_email | 0.03296\n",
      "weekday_Sunday | 0.02798\n",
      "weekday_Saturday | 0.02454\n",
      "user_country_UK | 0.02323\n",
      "weekday_Thursday | 0.02165\n",
      "weekday_Monday | 0.01996\n",
      "user_country_US | 0.01853\n",
      "weekday_Wednesday | 0.01762\n",
      "weekday_Tuesday | 0.01462\n"
     ]
    }
   ],
   "source": [
    "importance=clf.feature_importances_\n",
    "features=list(data_2.columns)\n",
    "\n",
    "importances = sorted(zip(features, importance), key=lambda x:x[1], reverse=True)\n",
    "for feature, val in importances:\n",
    "    print('{0:10s} | {1:.5f}'.format(feature, val))"
   ]
  },
  {
   "cell_type": "code",
   "execution_count": 153,
   "metadata": {
    "collapsed": false
   },
   "outputs": [
    {
     "data": {
      "text/plain": [
       "array([ 0.4945416 ,  0.49456659,  0.49461768,  0.49903484,  0.49912765,\n",
       "        0.49459214,  0.49459214,  0.49922122,  0.49448994,  0.49908059])"
      ]
     },
     "execution_count": 153,
     "metadata": {},
     "output_type": "execute_result"
    }
   ],
   "source": [
    "from sklearn.model_selection import cross_val_score\n",
    "cross_val_score(clf, data_2, label, cv=10,scoring='f1_macro')\n"
   ]
  },
  {
   "cell_type": "code",
   "execution_count": 141,
   "metadata": {
    "collapsed": false
   },
   "outputs": [
    {
     "data": {
      "text/plain": [
       "array([ 0.97880212,  0.9788    ,  0.9787    ,  0.9788    ,  0.9788    ,\n",
       "        0.9788    ,  0.9788    ,  0.9788    ,  0.9788    ,  0.97889789])"
      ]
     },
     "execution_count": 141,
     "metadata": {},
     "output_type": "execute_result"
    }
   ],
   "source": [
    "cross_val_score(clf, data_2, label, cv=10,scoring='accuracy')"
   ]
  },
  {
   "cell_type": "code",
   "execution_count": 142,
   "metadata": {
    "collapsed": false
   },
   "outputs": [
    {
     "data": {
      "text/plain": [
       "array([ 0.5       ,  0.5       ,  0.49994892,  0.5       ,  0.5       ,\n",
       "        0.5       ,  0.5       ,  0.5       ,  0.5       ,  0.5       ])"
      ]
     },
     "execution_count": 142,
     "metadata": {},
     "output_type": "execute_result"
    }
   ],
   "source": [
    "cross_val_score(clf, data_2, label, cv=10,scoring='recall_macro')"
   ]
  },
  {
   "cell_type": "code",
   "execution_count": 154,
   "metadata": {
    "collapsed": false
   },
   "outputs": [
    {
     "data": {
      "text/plain": [
       "array([ 0.48939682,  0.48939682,  0.48939894,  0.48939364,  0.572777  ,\n",
       "        0.48939788,  0.48939788,  0.61444578,  0.4893947 ,  0.54504505])"
      ]
     },
     "execution_count": 154,
     "metadata": {},
     "output_type": "execute_result"
    }
   ],
   "source": [
    "cross_val_score(clf, data_2, label, cv=10,scoring='precision_macro')"
   ]
  },
  {
   "cell_type": "code",
   "execution_count": 159,
   "metadata": {
    "collapsed": true
   },
   "outputs": [],
   "source": [
    "\n",
    "\n",
    "from sklearn import tree\n",
    "from sklearn.datasets import load_wine\n",
    "from IPython.display import SVG\n",
    "from graphviz import Source\n",
    "from IPython.display import display"
   ]
  },
  {
   "cell_type": "code",
   "execution_count": 162,
   "metadata": {
    "collapsed": false
   },
   "outputs": [
    {
     "data": {
      "image/svg+xml": [
       "<svg height=\"552pt\" viewBox=\"0.00 0.00 2281.50 552.00\" width=\"2282pt\" xmlns=\"http://www.w3.org/2000/svg\" xmlns:xlink=\"http://www.w3.org/1999/xlink\">\n",
       "<g class=\"graph\" id=\"graph0\" transform=\"scale(1 1) rotate(0) translate(4 548)\">\n",
       "<title>Tree</title>\n",
       "<polygon fill=\"white\" points=\"-4,4 -4,-548 2277.5,-548 2277.5,4 -4,4\" stroke=\"none\"/>\n",
       "<!-- 0 -->\n",
       "<g class=\"node\" id=\"node1\"><title>0</title>\n",
       "<polygon fill=\"#e58139\" fill-opacity=\"0.976471\" points=\"1238,-544 1062,-544 1062,-461 1238,-461 1238,-544\" stroke=\"black\"/>\n",
       "<text font-family=\"Times New Roman,serif\" font-size=\"14.00\" text-anchor=\"middle\" x=\"1150\" y=\"-528.8\">user_past_purchases &lt;= 5.5</text>\n",
       "<text font-family=\"Times New Roman,serif\" font-size=\"14.00\" text-anchor=\"middle\" x=\"1150\" y=\"-513.8\">gini = 0.041</text>\n",
       "<text font-family=\"Times New Roman,serif\" font-size=\"14.00\" text-anchor=\"middle\" x=\"1150\" y=\"-498.8\">samples = 100000</text>\n",
       "<text font-family=\"Times New Roman,serif\" font-size=\"14.00\" text-anchor=\"middle\" x=\"1150\" y=\"-483.8\">value = [97881, 2119]</text>\n",
       "<text font-family=\"Times New Roman,serif\" font-size=\"14.00\" text-anchor=\"middle\" x=\"1150\" y=\"-468.8\">class = NotClicked</text>\n",
       "</g>\n",
       "<!-- 1 -->\n",
       "<g class=\"node\" id=\"node2\"><title>1</title>\n",
       "<polygon fill=\"#e58139\" fill-opacity=\"0.984314\" points=\"941,-425 765,-425 765,-342 941,-342 941,-425\" stroke=\"black\"/>\n",
       "<text font-family=\"Times New Roman,serif\" font-size=\"14.00\" text-anchor=\"middle\" x=\"853\" y=\"-409.8\">user_past_purchases &lt;= 0.5</text>\n",
       "<text font-family=\"Times New Roman,serif\" font-size=\"14.00\" text-anchor=\"middle\" x=\"853\" y=\"-394.8\">gini = 0.027</text>\n",
       "<text font-family=\"Times New Roman,serif\" font-size=\"14.00\" text-anchor=\"middle\" x=\"853\" y=\"-379.8\">samples = 72526</text>\n",
       "<text font-family=\"Times New Roman,serif\" font-size=\"14.00\" text-anchor=\"middle\" x=\"853\" y=\"-364.8\">value = [71534, 992]</text>\n",
       "<text font-family=\"Times New Roman,serif\" font-size=\"14.00\" text-anchor=\"middle\" x=\"853\" y=\"-349.8\">class = NotClicked</text>\n",
       "</g>\n",
       "<!-- 0&#45;&gt;1 -->\n",
       "<g class=\"edge\" id=\"edge1\"><title>0-&gt;1</title>\n",
       "<path d=\"M1061.69,-466.713C1026.77,-452.955 986.498,-437.09 950.703,-422.989\" fill=\"none\" stroke=\"black\"/>\n",
       "<polygon fill=\"black\" points=\"951.809,-419.663 941.222,-419.254 949.243,-426.176 951.809,-419.663\" stroke=\"black\"/>\n",
       "<text font-family=\"Times New Roman,serif\" font-size=\"14.00\" text-anchor=\"middle\" x=\"951.19\" y=\"-438.481\">True</text>\n",
       "</g>\n",
       "<!-- 16 -->\n",
       "<g class=\"node\" id=\"node17\"><title>16</title>\n",
       "<polygon fill=\"#e58139\" fill-opacity=\"0.956863\" points=\"1534,-425 1352,-425 1352,-342 1534,-342 1534,-425\" stroke=\"black\"/>\n",
       "<text font-family=\"Times New Roman,serif\" font-size=\"14.00\" text-anchor=\"middle\" x=\"1443\" y=\"-409.8\">user_past_purchases &lt;= 10.5</text>\n",
       "<text font-family=\"Times New Roman,serif\" font-size=\"14.00\" text-anchor=\"middle\" x=\"1443\" y=\"-394.8\">gini = 0.079</text>\n",
       "<text font-family=\"Times New Roman,serif\" font-size=\"14.00\" text-anchor=\"middle\" x=\"1443\" y=\"-379.8\">samples = 27474</text>\n",
       "<text font-family=\"Times New Roman,serif\" font-size=\"14.00\" text-anchor=\"middle\" x=\"1443\" y=\"-364.8\">value = [26347, 1127]</text>\n",
       "<text font-family=\"Times New Roman,serif\" font-size=\"14.00\" text-anchor=\"middle\" x=\"1443\" y=\"-349.8\">class = NotClicked</text>\n",
       "</g>\n",
       "<!-- 0&#45;&gt;16 -->\n",
       "<g class=\"edge\" id=\"edge16\"><title>0-&gt;16</title>\n",
       "<path d=\"M1238.31,-466.237C1271.11,-453.137 1308.57,-438.181 1342.39,-424.674\" fill=\"none\" stroke=\"black\"/>\n",
       "<polygon fill=\"black\" points=\"1343.84,-427.865 1351.83,-420.906 1341.24,-421.364 1343.84,-427.865\" stroke=\"black\"/>\n",
       "<text font-family=\"Times New Roman,serif\" font-size=\"14.00\" text-anchor=\"middle\" x=\"1341.97\" y=\"-440.179\">False</text>\n",
       "</g>\n",
       "<!-- 2 -->\n",
       "<g class=\"node\" id=\"node3\"><title>2</title>\n",
       "<polygon fill=\"#e58139\" points=\"503,-306 379,-306 379,-223 503,-223 503,-306\" stroke=\"black\"/>\n",
       "<text font-family=\"Times New Roman,serif\" font-size=\"14.00\" text-anchor=\"middle\" x=\"441\" y=\"-290.8\">hour &lt;= 12.5</text>\n",
       "<text font-family=\"Times New Roman,serif\" font-size=\"14.00\" text-anchor=\"middle\" x=\"441\" y=\"-275.8\">gini = 0.001</text>\n",
       "<text font-family=\"Times New Roman,serif\" font-size=\"14.00\" text-anchor=\"middle\" x=\"441\" y=\"-260.8\">samples = 13877</text>\n",
       "<text font-family=\"Times New Roman,serif\" font-size=\"14.00\" text-anchor=\"middle\" x=\"441\" y=\"-245.8\">value = [13870, 7]</text>\n",
       "<text font-family=\"Times New Roman,serif\" font-size=\"14.00\" text-anchor=\"middle\" x=\"441\" y=\"-230.8\">class = NotClicked</text>\n",
       "</g>\n",
       "<!-- 1&#45;&gt;2 -->\n",
       "<g class=\"edge\" id=\"edge2\"><title>1-&gt;2</title>\n",
       "<path d=\"M764.868,-357.472C689.688,-336.123 582.941,-305.808 512.853,-285.905\" fill=\"none\" stroke=\"black\"/>\n",
       "<polygon fill=\"black\" points=\"513.789,-282.532 503.213,-283.167 511.877,-289.266 513.789,-282.532\" stroke=\"black\"/>\n",
       "</g>\n",
       "<!-- 9 -->\n",
       "<g class=\"node\" id=\"node10\"><title>9</title>\n",
       "<polygon fill=\"#e58139\" fill-opacity=\"0.984314\" points=\"944,-306 762,-306 762,-223 944,-223 944,-306\" stroke=\"black\"/>\n",
       "<text font-family=\"Times New Roman,serif\" font-size=\"14.00\" text-anchor=\"middle\" x=\"853\" y=\"-290.8\">email_version_generic &lt;= 0.5</text>\n",
       "<text font-family=\"Times New Roman,serif\" font-size=\"14.00\" text-anchor=\"middle\" x=\"853\" y=\"-275.8\">gini = 0.033</text>\n",
       "<text font-family=\"Times New Roman,serif\" font-size=\"14.00\" text-anchor=\"middle\" x=\"853\" y=\"-260.8\">samples = 58649</text>\n",
       "<text font-family=\"Times New Roman,serif\" font-size=\"14.00\" text-anchor=\"middle\" x=\"853\" y=\"-245.8\">value = [57664, 985]</text>\n",
       "<text font-family=\"Times New Roman,serif\" font-size=\"14.00\" text-anchor=\"middle\" x=\"853\" y=\"-230.8\">class = NotClicked</text>\n",
       "</g>\n",
       "<!-- 1&#45;&gt;9 -->\n",
       "<g class=\"edge\" id=\"edge9\"><title>1-&gt;9</title>\n",
       "<path d=\"M853,-341.907C853,-333.649 853,-324.864 853,-316.302\" fill=\"none\" stroke=\"black\"/>\n",
       "<polygon fill=\"black\" points=\"856.5,-316.021 853,-306.021 849.5,-316.021 856.5,-316.021\" stroke=\"black\"/>\n",
       "</g>\n",
       "<!-- 3 -->\n",
       "<g class=\"node\" id=\"node4\"><title>3</title>\n",
       "<polygon fill=\"#e58139\" points=\"295,-187 113,-187 113,-104 295,-104 295,-187\" stroke=\"black\"/>\n",
       "<text font-family=\"Times New Roman,serif\" font-size=\"14.00\" text-anchor=\"middle\" x=\"204\" y=\"-171.8\">email_version_generic &lt;= 0.5</text>\n",
       "<text font-family=\"Times New Roman,serif\" font-size=\"14.00\" text-anchor=\"middle\" x=\"204\" y=\"-156.8\">gini = 0.001</text>\n",
       "<text font-family=\"Times New Roman,serif\" font-size=\"14.00\" text-anchor=\"middle\" x=\"204\" y=\"-141.8\">samples = 10849</text>\n",
       "<text font-family=\"Times New Roman,serif\" font-size=\"14.00\" text-anchor=\"middle\" x=\"204\" y=\"-126.8\">value = [10846, 3]</text>\n",
       "<text font-family=\"Times New Roman,serif\" font-size=\"14.00\" text-anchor=\"middle\" x=\"204\" y=\"-111.8\">class = NotClicked</text>\n",
       "</g>\n",
       "<!-- 2&#45;&gt;3 -->\n",
       "<g class=\"edge\" id=\"edge3\"><title>2-&gt;3</title>\n",
       "<path d=\"M378.731,-232.76C353.238,-220.174 323.225,-205.358 295.334,-191.589\" fill=\"none\" stroke=\"black\"/>\n",
       "<polygon fill=\"black\" points=\"296.877,-188.448 286.361,-187.159 293.778,-194.724 296.877,-188.448\" stroke=\"black\"/>\n",
       "</g>\n",
       "<!-- 6 -->\n",
       "<g class=\"node\" id=\"node7\"><title>6</title>\n",
       "<polygon fill=\"#e58139\" points=\"522,-187 360,-187 360,-104 522,-104 522,-187\" stroke=\"black\"/>\n",
       "<text font-family=\"Times New Roman,serif\" font-size=\"14.00\" text-anchor=\"middle\" x=\"441\" y=\"-171.8\">weekday_Tuesday &lt;= 0.5</text>\n",
       "<text font-family=\"Times New Roman,serif\" font-size=\"14.00\" text-anchor=\"middle\" x=\"441\" y=\"-156.8\">gini = 0.003</text>\n",
       "<text font-family=\"Times New Roman,serif\" font-size=\"14.00\" text-anchor=\"middle\" x=\"441\" y=\"-141.8\">samples = 3028</text>\n",
       "<text font-family=\"Times New Roman,serif\" font-size=\"14.00\" text-anchor=\"middle\" x=\"441\" y=\"-126.8\">value = [3024, 4]</text>\n",
       "<text font-family=\"Times New Roman,serif\" font-size=\"14.00\" text-anchor=\"middle\" x=\"441\" y=\"-111.8\">class = NotClicked</text>\n",
       "</g>\n",
       "<!-- 2&#45;&gt;6 -->\n",
       "<g class=\"edge\" id=\"edge6\"><title>2-&gt;6</title>\n",
       "<path d=\"M441,-222.907C441,-214.649 441,-205.864 441,-197.302\" fill=\"none\" stroke=\"black\"/>\n",
       "<polygon fill=\"black\" points=\"444.5,-197.021 441,-187.021 437.5,-197.021 444.5,-197.021\" stroke=\"black\"/>\n",
       "</g>\n",
       "<!-- 4 -->\n",
       "<g class=\"node\" id=\"node5\"><title>4</title>\n",
       "<polygon fill=\"#e58139\" points=\"124,-68 0,-68 0,-0 124,-0 124,-68\" stroke=\"black\"/>\n",
       "<text font-family=\"Times New Roman,serif\" font-size=\"14.00\" text-anchor=\"middle\" x=\"62\" y=\"-52.8\">gini = 0.001</text>\n",
       "<text font-family=\"Times New Roman,serif\" font-size=\"14.00\" text-anchor=\"middle\" x=\"62\" y=\"-37.8\">samples = 5443</text>\n",
       "<text font-family=\"Times New Roman,serif\" font-size=\"14.00\" text-anchor=\"middle\" x=\"62\" y=\"-22.8\">value = [5440, 3]</text>\n",
       "<text font-family=\"Times New Roman,serif\" font-size=\"14.00\" text-anchor=\"middle\" x=\"62\" y=\"-7.8\">class = NotClicked</text>\n",
       "</g>\n",
       "<!-- 3&#45;&gt;4 -->\n",
       "<g class=\"edge\" id=\"edge4\"><title>3-&gt;4</title>\n",
       "<path d=\"M151.124,-103.726C138.705,-94.1494 125.493,-83.9611 113.151,-74.4438\" fill=\"none\" stroke=\"black\"/>\n",
       "<polygon fill=\"black\" points=\"115.239,-71.6345 105.183,-68.2996 110.965,-77.1778 115.239,-71.6345\" stroke=\"black\"/>\n",
       "</g>\n",
       "<!-- 5 -->\n",
       "<g class=\"node\" id=\"node6\"><title>5</title>\n",
       "<polygon fill=\"#e58139\" points=\"266,-68 142,-68 142,-0 266,-0 266,-68\" stroke=\"black\"/>\n",
       "<text font-family=\"Times New Roman,serif\" font-size=\"14.00\" text-anchor=\"middle\" x=\"204\" y=\"-52.8\">gini = 0.0</text>\n",
       "<text font-family=\"Times New Roman,serif\" font-size=\"14.00\" text-anchor=\"middle\" x=\"204\" y=\"-37.8\">samples = 5406</text>\n",
       "<text font-family=\"Times New Roman,serif\" font-size=\"14.00\" text-anchor=\"middle\" x=\"204\" y=\"-22.8\">value = [5406, 0]</text>\n",
       "<text font-family=\"Times New Roman,serif\" font-size=\"14.00\" text-anchor=\"middle\" x=\"204\" y=\"-7.8\">class = NotClicked</text>\n",
       "</g>\n",
       "<!-- 3&#45;&gt;5 -->\n",
       "<g class=\"edge\" id=\"edge5\"><title>3-&gt;5</title>\n",
       "<path d=\"M204,-103.726C204,-95.5175 204,-86.8595 204,-78.56\" fill=\"none\" stroke=\"black\"/>\n",
       "<polygon fill=\"black\" points=\"207.5,-78.2996 204,-68.2996 200.5,-78.2996 207.5,-78.2996\" stroke=\"black\"/>\n",
       "</g>\n",
       "<!-- 7 -->\n",
       "<g class=\"node\" id=\"node8\"><title>7</title>\n",
       "<polygon fill=\"#e58139\" points=\"408,-68 284,-68 284,-0 408,-0 408,-68\" stroke=\"black\"/>\n",
       "<text font-family=\"Times New Roman,serif\" font-size=\"14.00\" text-anchor=\"middle\" x=\"346\" y=\"-52.8\">gini = 0.002</text>\n",
       "<text font-family=\"Times New Roman,serif\" font-size=\"14.00\" text-anchor=\"middle\" x=\"346\" y=\"-37.8\">samples = 2602</text>\n",
       "<text font-family=\"Times New Roman,serif\" font-size=\"14.00\" text-anchor=\"middle\" x=\"346\" y=\"-22.8\">value = [2600, 2]</text>\n",
       "<text font-family=\"Times New Roman,serif\" font-size=\"14.00\" text-anchor=\"middle\" x=\"346\" y=\"-7.8\">class = NotClicked</text>\n",
       "</g>\n",
       "<!-- 6&#45;&gt;7 -->\n",
       "<g class=\"edge\" id=\"edge7\"><title>6-&gt;7</title>\n",
       "<path d=\"M405.626,-103.726C397.792,-94.6966 389.486,-85.1235 381.642,-76.0816\" fill=\"none\" stroke=\"black\"/>\n",
       "<polygon fill=\"black\" points=\"384.087,-73.5595 374.89,-68.2996 378.8,-78.1467 384.087,-73.5595\" stroke=\"black\"/>\n",
       "</g>\n",
       "<!-- 8 -->\n",
       "<g class=\"node\" id=\"node9\"><title>8</title>\n",
       "<polygon fill=\"#e58139\" fill-opacity=\"0.996078\" points=\"550,-68 426,-68 426,-0 550,-0 550,-68\" stroke=\"black\"/>\n",
       "<text font-family=\"Times New Roman,serif\" font-size=\"14.00\" text-anchor=\"middle\" x=\"488\" y=\"-52.8\">gini = 0.009</text>\n",
       "<text font-family=\"Times New Roman,serif\" font-size=\"14.00\" text-anchor=\"middle\" x=\"488\" y=\"-37.8\">samples = 426</text>\n",
       "<text font-family=\"Times New Roman,serif\" font-size=\"14.00\" text-anchor=\"middle\" x=\"488\" y=\"-22.8\">value = [424, 2]</text>\n",
       "<text font-family=\"Times New Roman,serif\" font-size=\"14.00\" text-anchor=\"middle\" x=\"488\" y=\"-7.8\">class = NotClicked</text>\n",
       "</g>\n",
       "<!-- 6&#45;&gt;8 -->\n",
       "<g class=\"edge\" id=\"edge8\"><title>6-&gt;8</title>\n",
       "<path d=\"M458.501,-103.726C462.142,-95.2439 465.989,-86.2819 469.659,-77.7312\" fill=\"none\" stroke=\"black\"/>\n",
       "<polygon fill=\"black\" points=\"472.979,-78.8694 473.707,-68.2996 466.546,-76.1084 472.979,-78.8694\" stroke=\"black\"/>\n",
       "</g>\n",
       "<!-- 10 -->\n",
       "<g class=\"node\" id=\"node11\"><title>10</title>\n",
       "<polygon fill=\"#e58139\" fill-opacity=\"0.976471\" points=\"838.5,-187 681.5,-187 681.5,-104 838.5,-104 838.5,-187\" stroke=\"black\"/>\n",
       "<text font-family=\"Times New Roman,serif\" font-size=\"14.00\" text-anchor=\"middle\" x=\"760\" y=\"-171.8\">user_country_FR &lt;= 0.5</text>\n",
       "<text font-family=\"Times New Roman,serif\" font-size=\"14.00\" text-anchor=\"middle\" x=\"760\" y=\"-156.8\">gini = 0.044</text>\n",
       "<text font-family=\"Times New Roman,serif\" font-size=\"14.00\" text-anchor=\"middle\" x=\"760\" y=\"-141.8\">samples = 29136</text>\n",
       "<text font-family=\"Times New Roman,serif\" font-size=\"14.00\" text-anchor=\"middle\" x=\"760\" y=\"-126.8\">value = [28482, 654]</text>\n",
       "<text font-family=\"Times New Roman,serif\" font-size=\"14.00\" text-anchor=\"middle\" x=\"760\" y=\"-111.8\">class = NotClicked</text>\n",
       "</g>\n",
       "<!-- 9&#45;&gt;10 -->\n",
       "<g class=\"edge\" id=\"edge10\"><title>9-&gt;10</title>\n",
       "<path d=\"M820.734,-222.907C813.593,-213.923 805.956,-204.315 798.591,-195.05\" fill=\"none\" stroke=\"black\"/>\n",
       "<polygon fill=\"black\" points=\"801.171,-192.671 792.209,-187.021 795.691,-197.027 801.171,-192.671\" stroke=\"black\"/>\n",
       "</g>\n",
       "<!-- 13 -->\n",
       "<g class=\"node\" id=\"node14\"><title>13</title>\n",
       "<polygon fill=\"#e58139\" fill-opacity=\"0.988235\" points=\"1033,-187 857,-187 857,-104 1033,-104 1033,-187\" stroke=\"black\"/>\n",
       "<text font-family=\"Times New Roman,serif\" font-size=\"14.00\" text-anchor=\"middle\" x=\"945\" y=\"-171.8\">user_past_purchases &lt;= 2.5</text>\n",
       "<text font-family=\"Times New Roman,serif\" font-size=\"14.00\" text-anchor=\"middle\" x=\"945\" y=\"-156.8\">gini = 0.022</text>\n",
       "<text font-family=\"Times New Roman,serif\" font-size=\"14.00\" text-anchor=\"middle\" x=\"945\" y=\"-141.8\">samples = 29513</text>\n",
       "<text font-family=\"Times New Roman,serif\" font-size=\"14.00\" text-anchor=\"middle\" x=\"945\" y=\"-126.8\">value = [29182, 331]</text>\n",
       "<text font-family=\"Times New Roman,serif\" font-size=\"14.00\" text-anchor=\"middle\" x=\"945\" y=\"-111.8\">class = NotClicked</text>\n",
       "</g>\n",
       "<!-- 9&#45;&gt;13 -->\n",
       "<g class=\"edge\" id=\"edge13\"><title>9-&gt;13</title>\n",
       "<path d=\"M884.919,-222.907C891.984,-213.923 899.539,-204.315 906.824,-195.05\" fill=\"none\" stroke=\"black\"/>\n",
       "<polygon fill=\"black\" points=\"909.708,-197.045 913.137,-187.021 904.205,-192.718 909.708,-197.045\" stroke=\"black\"/>\n",
       "</g>\n",
       "<!-- 11 -->\n",
       "<g class=\"node\" id=\"node12\"><title>11</title>\n",
       "<polygon fill=\"#e58139\" fill-opacity=\"0.976471\" points=\"699.5,-68 568.5,-68 568.5,-0 699.5,-0 699.5,-68\" stroke=\"black\"/>\n",
       "<text font-family=\"Times New Roman,serif\" font-size=\"14.00\" text-anchor=\"middle\" x=\"634\" y=\"-52.8\">gini = 0.047</text>\n",
       "<text font-family=\"Times New Roman,serif\" font-size=\"14.00\" text-anchor=\"middle\" x=\"634\" y=\"-37.8\">samples = 26232</text>\n",
       "<text font-family=\"Times New Roman,serif\" font-size=\"14.00\" text-anchor=\"middle\" x=\"634\" y=\"-22.8\">value = [25598, 634]</text>\n",
       "<text font-family=\"Times New Roman,serif\" font-size=\"14.00\" text-anchor=\"middle\" x=\"634\" y=\"-7.8\">class = NotClicked</text>\n",
       "</g>\n",
       "<!-- 10&#45;&gt;11 -->\n",
       "<g class=\"edge\" id=\"edge11\"><title>10-&gt;11</title>\n",
       "<path d=\"M713.082,-103.726C702.272,-94.3318 690.785,-84.349 680.014,-74.9883\" fill=\"none\" stroke=\"black\"/>\n",
       "<polygon fill=\"black\" points=\"682.161,-72.2174 672.317,-68.2996 677.57,-77.501 682.161,-72.2174\" stroke=\"black\"/>\n",
       "</g>\n",
       "<!-- 12 -->\n",
       "<g class=\"node\" id=\"node13\"><title>12</title>\n",
       "<polygon fill=\"#e58139\" fill-opacity=\"0.992157\" points=\"842,-68 718,-68 718,-0 842,-0 842,-68\" stroke=\"black\"/>\n",
       "<text font-family=\"Times New Roman,serif\" font-size=\"14.00\" text-anchor=\"middle\" x=\"780\" y=\"-52.8\">gini = 0.014</text>\n",
       "<text font-family=\"Times New Roman,serif\" font-size=\"14.00\" text-anchor=\"middle\" x=\"780\" y=\"-37.8\">samples = 2904</text>\n",
       "<text font-family=\"Times New Roman,serif\" font-size=\"14.00\" text-anchor=\"middle\" x=\"780\" y=\"-22.8\">value = [2884, 20]</text>\n",
       "<text font-family=\"Times New Roman,serif\" font-size=\"14.00\" text-anchor=\"middle\" x=\"780\" y=\"-7.8\">class = NotClicked</text>\n",
       "</g>\n",
       "<!-- 10&#45;&gt;12 -->\n",
       "<g class=\"edge\" id=\"edge12\"><title>10-&gt;12</title>\n",
       "<path d=\"M767.447,-103.726C768.963,-95.4263 770.563,-86.6671 772.094,-78.2834\" fill=\"none\" stroke=\"black\"/>\n",
       "<polygon fill=\"black\" points=\"775.564,-78.7658 773.918,-68.2996 768.678,-77.508 775.564,-78.7658\" stroke=\"black\"/>\n",
       "</g>\n",
       "<!-- 14 -->\n",
       "<g class=\"node\" id=\"node15\"><title>14</title>\n",
       "<polygon fill=\"#e58139\" fill-opacity=\"0.992157\" points=\"991.5,-68 860.5,-68 860.5,-0 991.5,-0 991.5,-68\" stroke=\"black\"/>\n",
       "<text font-family=\"Times New Roman,serif\" font-size=\"14.00\" text-anchor=\"middle\" x=\"926\" y=\"-52.8\">gini = 0.016</text>\n",
       "<text font-family=\"Times New Roman,serif\" font-size=\"14.00\" text-anchor=\"middle\" x=\"926\" y=\"-37.8\">samples = 13468</text>\n",
       "<text font-family=\"Times New Roman,serif\" font-size=\"14.00\" text-anchor=\"middle\" x=\"926\" y=\"-22.8\">value = [13359, 109]</text>\n",
       "<text font-family=\"Times New Roman,serif\" font-size=\"14.00\" text-anchor=\"middle\" x=\"926\" y=\"-7.8\">class = NotClicked</text>\n",
       "</g>\n",
       "<!-- 13&#45;&gt;14 -->\n",
       "<g class=\"edge\" id=\"edge14\"><title>13-&gt;14</title>\n",
       "<path d=\"M937.925,-103.726C936.485,-95.4263 934.965,-86.6671 933.51,-78.2834\" fill=\"none\" stroke=\"black\"/>\n",
       "<polygon fill=\"black\" points=\"936.936,-77.554 931.778,-68.2996 930.039,-78.7508 936.936,-77.554\" stroke=\"black\"/>\n",
       "</g>\n",
       "<!-- 15 -->\n",
       "<g class=\"node\" id=\"node16\"><title>15</title>\n",
       "<polygon fill=\"#e58139\" fill-opacity=\"0.984314\" points=\"1140.5,-68 1009.5,-68 1009.5,-0 1140.5,-0 1140.5,-68\" stroke=\"black\"/>\n",
       "<text font-family=\"Times New Roman,serif\" font-size=\"14.00\" text-anchor=\"middle\" x=\"1075\" y=\"-52.8\">gini = 0.027</text>\n",
       "<text font-family=\"Times New Roman,serif\" font-size=\"14.00\" text-anchor=\"middle\" x=\"1075\" y=\"-37.8\">samples = 16045</text>\n",
       "<text font-family=\"Times New Roman,serif\" font-size=\"14.00\" text-anchor=\"middle\" x=\"1075\" y=\"-22.8\">value = [15823, 222]</text>\n",
       "<text font-family=\"Times New Roman,serif\" font-size=\"14.00\" text-anchor=\"middle\" x=\"1075\" y=\"-7.8\">class = NotClicked</text>\n",
       "</g>\n",
       "<!-- 13&#45;&gt;15 -->\n",
       "<g class=\"edge\" id=\"edge15\"><title>13-&gt;15</title>\n",
       "<path d=\"M993.407,-103.726C1004.56,-94.3318 1016.41,-84.349 1027.53,-74.9883\" fill=\"none\" stroke=\"black\"/>\n",
       "<polygon fill=\"black\" points=\"1030.07,-77.4188 1035.47,-68.2996 1025.56,-72.065 1030.07,-77.4188\" stroke=\"black\"/>\n",
       "</g>\n",
       "<!-- 17 -->\n",
       "<g class=\"node\" id=\"node18\"><title>17</title>\n",
       "<polygon fill=\"#e58139\" fill-opacity=\"0.960784\" points=\"1534,-306 1352,-306 1352,-223 1534,-223 1534,-306\" stroke=\"black\"/>\n",
       "<text font-family=\"Times New Roman,serif\" font-size=\"14.00\" text-anchor=\"middle\" x=\"1443\" y=\"-290.8\">email_version_generic &lt;= 0.5</text>\n",
       "<text font-family=\"Times New Roman,serif\" font-size=\"14.00\" text-anchor=\"middle\" x=\"1443\" y=\"-275.8\">gini = 0.07</text>\n",
       "<text font-family=\"Times New Roman,serif\" font-size=\"14.00\" text-anchor=\"middle\" x=\"1443\" y=\"-260.8\">samples = 23621</text>\n",
       "<text font-family=\"Times New Roman,serif\" font-size=\"14.00\" text-anchor=\"middle\" x=\"1443\" y=\"-245.8\">value = [22760, 861]</text>\n",
       "<text font-family=\"Times New Roman,serif\" font-size=\"14.00\" text-anchor=\"middle\" x=\"1443\" y=\"-230.8\">class = NotClicked</text>\n",
       "</g>\n",
       "<!-- 16&#45;&gt;17 -->\n",
       "<g class=\"edge\" id=\"edge17\"><title>16-&gt;17</title>\n",
       "<path d=\"M1443,-341.907C1443,-333.649 1443,-324.864 1443,-316.302\" fill=\"none\" stroke=\"black\"/>\n",
       "<polygon fill=\"black\" points=\"1446.5,-316.021 1443,-306.021 1439.5,-316.021 1446.5,-316.021\" stroke=\"black\"/>\n",
       "</g>\n",
       "<!-- 24 -->\n",
       "<g class=\"node\" id=\"node25\"><title>24</title>\n",
       "<polygon fill=\"#e58139\" fill-opacity=\"0.925490\" points=\"1964,-306 1782,-306 1782,-223 1964,-223 1964,-306\" stroke=\"black\"/>\n",
       "<text font-family=\"Times New Roman,serif\" font-size=\"14.00\" text-anchor=\"middle\" x=\"1873\" y=\"-290.8\">user_past_purchases &lt;= 20.5</text>\n",
       "<text font-family=\"Times New Roman,serif\" font-size=\"14.00\" text-anchor=\"middle\" x=\"1873\" y=\"-275.8\">gini = 0.129</text>\n",
       "<text font-family=\"Times New Roman,serif\" font-size=\"14.00\" text-anchor=\"middle\" x=\"1873\" y=\"-260.8\">samples = 3853</text>\n",
       "<text font-family=\"Times New Roman,serif\" font-size=\"14.00\" text-anchor=\"middle\" x=\"1873\" y=\"-245.8\">value = [3587, 266]</text>\n",
       "<text font-family=\"Times New Roman,serif\" font-size=\"14.00\" text-anchor=\"middle\" x=\"1873\" y=\"-230.8\">class = NotClicked</text>\n",
       "</g>\n",
       "<!-- 16&#45;&gt;24 -->\n",
       "<g class=\"edge\" id=\"edge24\"><title>16-&gt;24</title>\n",
       "<path d=\"M1534.19,-357.687C1603.89,-338.724 1699.91,-312.596 1771.94,-292.998\" fill=\"none\" stroke=\"black\"/>\n",
       "<polygon fill=\"black\" points=\"1773.21,-296.28 1781.94,-290.277 1771.37,-289.525 1773.21,-296.28\" stroke=\"black\"/>\n",
       "</g>\n",
       "<!-- 18 -->\n",
       "<g class=\"node\" id=\"node19\"><title>18</title>\n",
       "<polygon fill=\"#e58139\" fill-opacity=\"0.952941\" points=\"1433.5,-187 1278.5,-187 1278.5,-104 1433.5,-104 1433.5,-187\" stroke=\"black\"/>\n",
       "<text font-family=\"Times New Roman,serif\" font-size=\"14.00\" text-anchor=\"middle\" x=\"1356\" y=\"-171.8\">user_country_ES &lt;= 0.5</text>\n",
       "<text font-family=\"Times New Roman,serif\" font-size=\"14.00\" text-anchor=\"middle\" x=\"1356\" y=\"-156.8\">gini = 0.087</text>\n",
       "<text font-family=\"Times New Roman,serif\" font-size=\"14.00\" text-anchor=\"middle\" x=\"1356\" y=\"-141.8\">samples = 11765</text>\n",
       "<text font-family=\"Times New Roman,serif\" font-size=\"14.00\" text-anchor=\"middle\" x=\"1356\" y=\"-126.8\">value = [11232, 533]</text>\n",
       "<text font-family=\"Times New Roman,serif\" font-size=\"14.00\" text-anchor=\"middle\" x=\"1356\" y=\"-111.8\">class = NotClicked</text>\n",
       "</g>\n",
       "<!-- 17&#45;&gt;18 -->\n",
       "<g class=\"edge\" id=\"edge18\"><title>17-&gt;18</title>\n",
       "<path d=\"M1412.82,-222.907C1406.14,-213.923 1398.99,-204.315 1392.1,-195.05\" fill=\"none\" stroke=\"black\"/>\n",
       "<polygon fill=\"black\" points=\"1394.91,-192.957 1386.13,-187.021 1389.29,-197.134 1394.91,-192.957\" stroke=\"black\"/>\n",
       "</g>\n",
       "<!-- 21 -->\n",
       "<g class=\"node\" id=\"node22\"><title>21</title>\n",
       "<polygon fill=\"#e58139\" fill-opacity=\"0.972549\" points=\"1608.5,-187 1451.5,-187 1451.5,-104 1608.5,-104 1608.5,-187\" stroke=\"black\"/>\n",
       "<text font-family=\"Times New Roman,serif\" font-size=\"14.00\" text-anchor=\"middle\" x=\"1530\" y=\"-171.8\">user_country_FR &lt;= 0.5</text>\n",
       "<text font-family=\"Times New Roman,serif\" font-size=\"14.00\" text-anchor=\"middle\" x=\"1530\" y=\"-156.8\">gini = 0.054</text>\n",
       "<text font-family=\"Times New Roman,serif\" font-size=\"14.00\" text-anchor=\"middle\" x=\"1530\" y=\"-141.8\">samples = 11856</text>\n",
       "<text font-family=\"Times New Roman,serif\" font-size=\"14.00\" text-anchor=\"middle\" x=\"1530\" y=\"-126.8\">value = [11528, 328]</text>\n",
       "<text font-family=\"Times New Roman,serif\" font-size=\"14.00\" text-anchor=\"middle\" x=\"1530\" y=\"-111.8\">class = NotClicked</text>\n",
       "</g>\n",
       "<!-- 17&#45;&gt;21 -->\n",
       "<g class=\"edge\" id=\"edge21\"><title>17-&gt;21</title>\n",
       "<path d=\"M1473.18,-222.907C1479.86,-213.923 1487.01,-204.315 1493.9,-195.05\" fill=\"none\" stroke=\"black\"/>\n",
       "<polygon fill=\"black\" points=\"1496.71,-197.134 1499.87,-187.021 1491.09,-192.957 1496.71,-197.134\" stroke=\"black\"/>\n",
       "</g>\n",
       "<!-- 19 -->\n",
       "<g class=\"node\" id=\"node20\"><title>19</title>\n",
       "<polygon fill=\"#e58139\" fill-opacity=\"0.949020\" points=\"1289.5,-68 1158.5,-68 1158.5,-0 1289.5,-0 1289.5,-68\" stroke=\"black\"/>\n",
       "<text font-family=\"Times New Roman,serif\" font-size=\"14.00\" text-anchor=\"middle\" x=\"1224\" y=\"-52.8\">gini = 0.092</text>\n",
       "<text font-family=\"Times New Roman,serif\" font-size=\"14.00\" text-anchor=\"middle\" x=\"1224\" y=\"-37.8\">samples = 10530</text>\n",
       "<text font-family=\"Times New Roman,serif\" font-size=\"14.00\" text-anchor=\"middle\" x=\"1224\" y=\"-22.8\">value = [10020, 510]</text>\n",
       "<text font-family=\"Times New Roman,serif\" font-size=\"14.00\" text-anchor=\"middle\" x=\"1224\" y=\"-7.8\">class = NotClicked</text>\n",
       "</g>\n",
       "<!-- 18&#45;&gt;19 -->\n",
       "<g class=\"edge\" id=\"edge19\"><title>18-&gt;19</title>\n",
       "<path d=\"M1306.85,-103.726C1295.41,-94.2406 1283.26,-84.1551 1271.88,-74.7159\" fill=\"none\" stroke=\"black\"/>\n",
       "<polygon fill=\"black\" points=\"1274.07,-71.9905 1264.14,-68.2996 1269.6,-77.3781 1274.07,-71.9905\" stroke=\"black\"/>\n",
       "</g>\n",
       "<!-- 20 -->\n",
       "<g class=\"node\" id=\"node21\"><title>20</title>\n",
       "<polygon fill=\"#e58139\" fill-opacity=\"0.980392\" points=\"1432,-68 1308,-68 1308,-0 1432,-0 1432,-68\" stroke=\"black\"/>\n",
       "<text font-family=\"Times New Roman,serif\" font-size=\"14.00\" text-anchor=\"middle\" x=\"1370\" y=\"-52.8\">gini = 0.037</text>\n",
       "<text font-family=\"Times New Roman,serif\" font-size=\"14.00\" text-anchor=\"middle\" x=\"1370\" y=\"-37.8\">samples = 1235</text>\n",
       "<text font-family=\"Times New Roman,serif\" font-size=\"14.00\" text-anchor=\"middle\" x=\"1370\" y=\"-22.8\">value = [1212, 23]</text>\n",
       "<text font-family=\"Times New Roman,serif\" font-size=\"14.00\" text-anchor=\"middle\" x=\"1370\" y=\"-7.8\">class = NotClicked</text>\n",
       "</g>\n",
       "<!-- 18&#45;&gt;20 -->\n",
       "<g class=\"edge\" id=\"edge20\"><title>18-&gt;20</title>\n",
       "<path d=\"M1361.21,-103.726C1362.27,-95.4263 1363.39,-86.6671 1364.47,-78.2834\" fill=\"none\" stroke=\"black\"/>\n",
       "<polygon fill=\"black\" points=\"1367.95,-78.6628 1365.74,-68.2996 1361,-77.7749 1367.95,-78.6628\" stroke=\"black\"/>\n",
       "</g>\n",
       "<!-- 22 -->\n",
       "<g class=\"node\" id=\"node23\"><title>22</title>\n",
       "<polygon fill=\"#e58139\" fill-opacity=\"0.968627\" points=\"1581.5,-68 1450.5,-68 1450.5,-0 1581.5,-0 1581.5,-68\" stroke=\"black\"/>\n",
       "<text font-family=\"Times New Roman,serif\" font-size=\"14.00\" text-anchor=\"middle\" x=\"1516\" y=\"-52.8\">gini = 0.057</text>\n",
       "<text font-family=\"Times New Roman,serif\" font-size=\"14.00\" text-anchor=\"middle\" x=\"1516\" y=\"-37.8\">samples = 10633</text>\n",
       "<text font-family=\"Times New Roman,serif\" font-size=\"14.00\" text-anchor=\"middle\" x=\"1516\" y=\"-22.8\">value = [10318, 315]</text>\n",
       "<text font-family=\"Times New Roman,serif\" font-size=\"14.00\" text-anchor=\"middle\" x=\"1516\" y=\"-7.8\">class = NotClicked</text>\n",
       "</g>\n",
       "<!-- 21&#45;&gt;22 -->\n",
       "<g class=\"edge\" id=\"edge22\"><title>21-&gt;22</title>\n",
       "<path d=\"M1524.79,-103.726C1523.73,-95.4263 1522.61,-86.6671 1521.53,-78.2834\" fill=\"none\" stroke=\"black\"/>\n",
       "<polygon fill=\"black\" points=\"1525,-77.7749 1520.26,-68.2996 1518.05,-78.6628 1525,-77.7749\" stroke=\"black\"/>\n",
       "</g>\n",
       "<!-- 23 -->\n",
       "<g class=\"node\" id=\"node24\"><title>23</title>\n",
       "<polygon fill=\"#e58139\" fill-opacity=\"0.988235\" points=\"1724,-68 1600,-68 1600,-0 1724,-0 1724,-68\" stroke=\"black\"/>\n",
       "<text font-family=\"Times New Roman,serif\" font-size=\"14.00\" text-anchor=\"middle\" x=\"1662\" y=\"-52.8\">gini = 0.021</text>\n",
       "<text font-family=\"Times New Roman,serif\" font-size=\"14.00\" text-anchor=\"middle\" x=\"1662\" y=\"-37.8\">samples = 1223</text>\n",
       "<text font-family=\"Times New Roman,serif\" font-size=\"14.00\" text-anchor=\"middle\" x=\"1662\" y=\"-22.8\">value = [1210, 13]</text>\n",
       "<text font-family=\"Times New Roman,serif\" font-size=\"14.00\" text-anchor=\"middle\" x=\"1662\" y=\"-7.8\">class = NotClicked</text>\n",
       "</g>\n",
       "<!-- 21&#45;&gt;23 -->\n",
       "<g class=\"edge\" id=\"edge23\"><title>21-&gt;23</title>\n",
       "<path d=\"M1579.15,-103.726C1590.59,-94.2406 1602.74,-84.1551 1614.12,-74.7159\" fill=\"none\" stroke=\"black\"/>\n",
       "<polygon fill=\"black\" points=\"1616.4,-77.3781 1621.86,-68.2996 1611.93,-71.9905 1616.4,-77.3781\" stroke=\"black\"/>\n",
       "</g>\n",
       "<!-- 25 -->\n",
       "<g class=\"node\" id=\"node26\"><title>25</title>\n",
       "<polygon fill=\"#e58139\" fill-opacity=\"0.925490\" points=\"1951.5,-187 1794.5,-187 1794.5,-104 1951.5,-104 1951.5,-187\" stroke=\"black\"/>\n",
       "<text font-family=\"Times New Roman,serif\" font-size=\"14.00\" text-anchor=\"middle\" x=\"1873\" y=\"-171.8\">user_country_US &lt;= 0.5</text>\n",
       "<text font-family=\"Times New Roman,serif\" font-size=\"14.00\" text-anchor=\"middle\" x=\"1873\" y=\"-156.8\">gini = 0.127</text>\n",
       "<text font-family=\"Times New Roman,serif\" font-size=\"14.00\" text-anchor=\"middle\" x=\"1873\" y=\"-141.8\">samples = 3848</text>\n",
       "<text font-family=\"Times New Roman,serif\" font-size=\"14.00\" text-anchor=\"middle\" x=\"1873\" y=\"-126.8\">value = [3585, 263]</text>\n",
       "<text font-family=\"Times New Roman,serif\" font-size=\"14.00\" text-anchor=\"middle\" x=\"1873\" y=\"-111.8\">class = NotClicked</text>\n",
       "</g>\n",
       "<!-- 24&#45;&gt;25 -->\n",
       "<g class=\"edge\" id=\"edge25\"><title>24-&gt;25</title>\n",
       "<path d=\"M1873,-222.907C1873,-214.649 1873,-205.864 1873,-197.302\" fill=\"none\" stroke=\"black\"/>\n",
       "<polygon fill=\"black\" points=\"1876.5,-197.021 1873,-187.021 1869.5,-197.021 1876.5,-197.021\" stroke=\"black\"/>\n",
       "</g>\n",
       "<!-- 28 -->\n",
       "<g class=\"node\" id=\"node29\"><title>28</title>\n",
       "<polygon fill=\"#399de5\" fill-opacity=\"0.333333\" points=\"2141.5,-187 2038.5,-187 2038.5,-104 2141.5,-104 2141.5,-187\" stroke=\"black\"/>\n",
       "<text font-family=\"Times New Roman,serif\" font-size=\"14.00\" text-anchor=\"middle\" x=\"2090\" y=\"-171.8\">hour &lt;= 13.0</text>\n",
       "<text font-family=\"Times New Roman,serif\" font-size=\"14.00\" text-anchor=\"middle\" x=\"2090\" y=\"-156.8\">gini = 0.48</text>\n",
       "<text font-family=\"Times New Roman,serif\" font-size=\"14.00\" text-anchor=\"middle\" x=\"2090\" y=\"-141.8\">samples = 5</text>\n",
       "<text font-family=\"Times New Roman,serif\" font-size=\"14.00\" text-anchor=\"middle\" x=\"2090\" y=\"-126.8\">value = [2, 3]</text>\n",
       "<text font-family=\"Times New Roman,serif\" font-size=\"14.00\" text-anchor=\"middle\" x=\"2090\" y=\"-111.8\">class = Clicked</text>\n",
       "</g>\n",
       "<!-- 24&#45;&gt;28 -->\n",
       "<g class=\"edge\" id=\"edge28\"><title>24-&gt;28</title>\n",
       "<path d=\"M1948.29,-222.907C1974.78,-208.623 2004.2,-192.763 2029.33,-179.211\" fill=\"none\" stroke=\"black\"/>\n",
       "<polygon fill=\"black\" points=\"2031.24,-182.157 2038.38,-174.33 2027.92,-175.995 2031.24,-182.157\" stroke=\"black\"/>\n",
       "</g>\n",
       "<!-- 26 -->\n",
       "<g class=\"node\" id=\"node27\"><title>26</title>\n",
       "<polygon fill=\"#e58139\" fill-opacity=\"0.952941\" points=\"1866,-68 1742,-68 1742,-0 1866,-0 1866,-68\" stroke=\"black\"/>\n",
       "<text font-family=\"Times New Roman,serif\" font-size=\"14.00\" text-anchor=\"middle\" x=\"1804\" y=\"-52.8\">gini = 0.085</text>\n",
       "<text font-family=\"Times New Roman,serif\" font-size=\"14.00\" text-anchor=\"middle\" x=\"1804\" y=\"-37.8\">samples = 1534</text>\n",
       "<text font-family=\"Times New Roman,serif\" font-size=\"14.00\" text-anchor=\"middle\" x=\"1804\" y=\"-22.8\">value = [1466, 68]</text>\n",
       "<text font-family=\"Times New Roman,serif\" font-size=\"14.00\" text-anchor=\"middle\" x=\"1804\" y=\"-7.8\">class = NotClicked</text>\n",
       "</g>\n",
       "<!-- 25&#45;&gt;26 -->\n",
       "<g class=\"edge\" id=\"edge26\"><title>25-&gt;26</title>\n",
       "<path d=\"M1847.31,-103.726C1841.79,-94.9703 1835.95,-85.7032 1830.41,-76.9051\" fill=\"none\" stroke=\"black\"/>\n",
       "<polygon fill=\"black\" points=\"1833.28,-74.8941 1824.98,-68.2996 1827.35,-78.6259 1833.28,-74.8941\" stroke=\"black\"/>\n",
       "</g>\n",
       "<!-- 27 -->\n",
       "<g class=\"node\" id=\"node28\"><title>27</title>\n",
       "<polygon fill=\"#e58139\" fill-opacity=\"0.909804\" points=\"2009.5,-68 1884.5,-68 1884.5,-0 2009.5,-0 2009.5,-68\" stroke=\"black\"/>\n",
       "<text font-family=\"Times New Roman,serif\" font-size=\"14.00\" text-anchor=\"middle\" x=\"1947\" y=\"-52.8\">gini = 0.154</text>\n",
       "<text font-family=\"Times New Roman,serif\" font-size=\"14.00\" text-anchor=\"middle\" x=\"1947\" y=\"-37.8\">samples = 2314</text>\n",
       "<text font-family=\"Times New Roman,serif\" font-size=\"14.00\" text-anchor=\"middle\" x=\"1947\" y=\"-22.8\">value = [2119, 195]</text>\n",
       "<text font-family=\"Times New Roman,serif\" font-size=\"14.00\" text-anchor=\"middle\" x=\"1947\" y=\"-7.8\">class = NotClicked</text>\n",
       "</g>\n",
       "<!-- 25&#45;&gt;27 -->\n",
       "<g class=\"edge\" id=\"edge27\"><title>25-&gt;27</title>\n",
       "<path d=\"M1900.55,-103.726C1906.53,-94.879 1912.87,-85.51 1918.87,-76.6303\" fill=\"none\" stroke=\"black\"/>\n",
       "<polygon fill=\"black\" points=\"1921.8,-78.5448 1924.5,-68.2996 1916,-74.6253 1921.8,-78.5448\" stroke=\"black\"/>\n",
       "</g>\n",
       "<!-- 29 -->\n",
       "<g class=\"node\" id=\"node30\"><title>29</title>\n",
       "<polygon fill=\"#e58139\" fill-opacity=\"0.498039\" points=\"2152,-68 2028,-68 2028,-0 2152,-0 2152,-68\" stroke=\"black\"/>\n",
       "<text font-family=\"Times New Roman,serif\" font-size=\"14.00\" text-anchor=\"middle\" x=\"2090\" y=\"-52.8\">gini = 0.444</text>\n",
       "<text font-family=\"Times New Roman,serif\" font-size=\"14.00\" text-anchor=\"middle\" x=\"2090\" y=\"-37.8\">samples = 3</text>\n",
       "<text font-family=\"Times New Roman,serif\" font-size=\"14.00\" text-anchor=\"middle\" x=\"2090\" y=\"-22.8\">value = [2, 1]</text>\n",
       "<text font-family=\"Times New Roman,serif\" font-size=\"14.00\" text-anchor=\"middle\" x=\"2090\" y=\"-7.8\">class = NotClicked</text>\n",
       "</g>\n",
       "<!-- 28&#45;&gt;29 -->\n",
       "<g class=\"edge\" id=\"edge29\"><title>28-&gt;29</title>\n",
       "<path d=\"M2090,-103.726C2090,-95.5175 2090,-86.8595 2090,-78.56\" fill=\"none\" stroke=\"black\"/>\n",
       "<polygon fill=\"black\" points=\"2093.5,-78.2996 2090,-68.2996 2086.5,-78.2996 2093.5,-78.2996\" stroke=\"black\"/>\n",
       "</g>\n",
       "<!-- 30 -->\n",
       "<g class=\"node\" id=\"node31\"><title>30</title>\n",
       "<polygon fill=\"#399de5\" points=\"2273.5,-68 2170.5,-68 2170.5,-0 2273.5,-0 2273.5,-68\" stroke=\"black\"/>\n",
       "<text font-family=\"Times New Roman,serif\" font-size=\"14.00\" text-anchor=\"middle\" x=\"2222\" y=\"-52.8\">gini = 0.0</text>\n",
       "<text font-family=\"Times New Roman,serif\" font-size=\"14.00\" text-anchor=\"middle\" x=\"2222\" y=\"-37.8\">samples = 2</text>\n",
       "<text font-family=\"Times New Roman,serif\" font-size=\"14.00\" text-anchor=\"middle\" x=\"2222\" y=\"-22.8\">value = [0, 2]</text>\n",
       "<text font-family=\"Times New Roman,serif\" font-size=\"14.00\" text-anchor=\"middle\" x=\"2222\" y=\"-7.8\">class = Clicked</text>\n",
       "</g>\n",
       "<!-- 28&#45;&gt;30 -->\n",
       "<g class=\"edge\" id=\"edge30\"><title>28-&gt;30</title>\n",
       "<path d=\"M2139.15,-103.726C2150.59,-94.2406 2162.74,-84.1551 2174.12,-74.7159\" fill=\"none\" stroke=\"black\"/>\n",
       "<polygon fill=\"black\" points=\"2176.4,-77.3781 2181.86,-68.2996 2171.93,-71.9905 2176.4,-77.3781\" stroke=\"black\"/>\n",
       "</g>\n",
       "</g>\n",
       "</svg>"
      ],
      "text/plain": [
       "<IPython.core.display.SVG object>"
      ]
     },
     "metadata": {},
     "output_type": "display_data"
    }
   ],
   "source": [
    "graph = Source(tree.export_graphviz(clf, out_file=None\n",
    "   , feature_names=labels, class_names=['NotClicked', 'Clicked'] \n",
    "   , filled = True))\n",
    "display(SVG(graph.pipe(format='svg')))"
   ]
  },
  {
   "cell_type": "markdown",
   "metadata": {},
   "source": [
    "### Chi squared to check feature importance\n"
   ]
  },
  {
   "cell_type": "code",
   "execution_count": null,
   "metadata": {
    "collapsed": true
   },
   "outputs": [],
   "source": []
  },
  {
   "cell_type": "markdown",
   "metadata": {},
   "source": [
    "### Exploratory analysia and chart plots "
   ]
  },
  {
   "cell_type": "code",
   "execution_count": 192,
   "metadata": {
    "collapsed": true
   },
   "outputs": [],
   "source": [
    "import seaborn as sns\n",
    "import matplotlib.pyplot as plt"
   ]
  },
  {
   "cell_type": "code",
   "execution_count": 196,
   "metadata": {
    "collapsed": false
   },
   "outputs": [
    {
     "data": {
      "image/png": "[encoded data removed]",
      "text/plain": [
       "<matplotlib.figure.Figure at 0x260ab587630>"
      ]
     },
     "metadata": {},
     "output_type": "display_data"
    }
   ],
   "source": [
    "\n",
    "ax = sns.pointplot(x=\"email_text\", y=\"link_status\", data=data)\n",
    "plt.show() "
   ]
  },
  {
   "cell_type": "code",
   "execution_count": 197,
   "metadata": {
    "collapsed": false
   },
   "outputs": [
    {
     "data": {
      "image/png": "[encoded data removed]",
      "text/plain": [
       "<matplotlib.figure.Figure at 0x260aedd9be0>"
      ]
     },
     "metadata": {},
     "output_type": "display_data"
    }
   ],
   "source": [
    "ax = sns.pointplot(x=\"email_version\", y=\"link_status\", data=data)\n",
    "plt.show() "
   ]
  },
  {
   "cell_type": "code",
   "execution_count": 198,
   "metadata": {
    "collapsed": false
   },
   "outputs": [
    {
     "data": {
      "image/png": "[encoded data removed]",
      "text/plain": [
       "<matplotlib.figure.Figure at 0x260b2531668>"
      ]
     },
     "metadata": {},
     "output_type": "display_data"
    }
   ],
   "source": [
    "ax = sns.pointplot(x=\"hour\", y=\"link_status\", data=data)\n",
    "plt.show() "
   ]
  },
  {
   "cell_type": "code",
   "execution_count": 199,
   "metadata": {
    "collapsed": false
   },
   "outputs": [
    {
     "data": {
      "image/png": "[encoded data removed]",
      "text/plain": [
       "<matplotlib.figure.Figure at 0x260b25313c8>"
      ]
     },
     "metadata": {},
     "output_type": "display_data"
    }
   ],
   "source": [
    "ax = sns.pointplot(x=\"weekday\", y=\"link_status\", data=data)\n",
    "plt.show() "
   ]
  },
  {
   "cell_type": "code",
   "execution_count": 200,
   "metadata": {
    "collapsed": false
   },
   "outputs": [
    {
     "data": {
      "image/png": "[encoded data removed]",
      "text/plain": [
       "<matplotlib.figure.Figure at 0x260ab2e7b70>"
      ]
     },
     "metadata": {},
     "output_type": "display_data"
    }
   ],
   "source": [
    "ax = sns.pointplot(x=\"user_country\", y=\"link_status\", data=data)\n",
    "plt.show() "
   ]
  }
 ],
 "metadata": {
  "kernelspec": {
   "display_name": "Python 3",
   "language": "python",
   "name": "python3"
  },
  "language_info": {
   "codemirror_mode": {
    "name": "ipython",
    "version": 3
   },
   "file_extension": ".py",
   "mimetype": "text/x-python",
   "name": "python",
   "nbconvert_exporter": "python",
   "pygments_lexer": "ipython3",
   "version": "3.5.2"
  }
 },
 "nbformat": 4,
 "nbformat_minor": 2
}

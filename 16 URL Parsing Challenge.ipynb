{
 "cells": [
  {
   "cell_type": "markdown",
   "metadata": {},
   "source": [
    "# Challenge Description\n",
    "Company XYZ is an Online Travel Agent site, such as Expedia, Booking.com, etc. They haven't invested in data science yet and all the data they have about user searches are simply stored in the URLs generated when users search for a hotel. If you are not familiar with URLs, you can run a search on any OTA site and see how all search parameters are present in the URL. "
   ]
  },
  {
   "cell_type": "markdown",
   "metadata": {},
   "source": [
    "# Question 1\n",
    "Create a clean data set where each column is a ﬁeld in the URL, each row is a given search and the cells are the corresponding URL values. "
   ]
  },
  {
   "cell_type": "code",
   "execution_count": 1,
   "metadata": {
    "collapsed": true
   },
   "outputs": [],
   "source": [
    "import pandas as pd\n",
    "import numpy as np"
   ]
  },
  {
   "cell_type": "code",
   "execution_count": 17,
   "metadata": {
    "collapsed": true
   },
   "outputs": [],
   "source": [
    "file=\"data/url_list.txt\"\n",
    "#url=pd.read_csv(file)"
   ]
  },
  {
   "cell_type": "markdown",
   "metadata": {},
   "source": [
    "below answer is from https://github.com/stasi009/TakeHomeDataChallenges/blob/master/16.ParseURL/parse_url.ipynb"
   ]
  },
  {
   "cell_type": "code",
   "execution_count": 5,
   "metadata": {
    "collapsed": true
   },
   "outputs": [],
   "source": [
    "# constant definition\n",
    "Site = 'http://www.mysearchforhotels.com/shop/hotelsearch?'\n",
    "LenSite = len(Site)\n",
    "\n",
    "ParamPrefix = 'hotel.'\n",
    "LenParaPrefix = len(ParamPrefix)\n",
    "\n",
    "Separator = ', '"
   ]
  },
  {
   "cell_type": "code",
   "execution_count": 7,
   "metadata": {
    "collapsed": false
   },
   "outputs": [],
   "source": [
    "def parse_url(url):\n",
    "    \"\"\"\n",
    "    input: a url string\n",
    "    output: a dictionary which contains parameter name and its value\n",
    "    \"\"\"\n",
    "    # remove common prefix\n",
    "    assert url[LenSite-1] == '?'\n",
    "    segments = url[LenSite:].split('&')\n",
    "\n",
    "    params = {}\n",
    "    for segment in segments:\n",
    "        kvpairs = segment.split('=')\n",
    "        assert len(kvpairs) == 2\n",
    "\n",
    "        k = kvpairs[0]\n",
    "        # remove common prefix\n",
    "        assert k[LenParaPrefix-1] == '.'\n",
    "        k = k[LenParaPrefix:]\n",
    "\n",
    "        if k in params:\n",
    "            print(\"'{}' has already existed in search\".format(k))\n",
    "            params[k] = params[k] + Separator +kvpairs[1]\n",
    "        else:\n",
    "            params[k] = kvpairs[1]\n",
    "\n",
    "    return params"
   ]
  },
  {
   "cell_type": "code",
   "execution_count": 12,
   "metadata": {
    "collapsed": false
   },
   "outputs": [],
   "source": [
    "def load_parse():\n",
    "    succ_urls = []\n",
    "    fail_urls = []\n",
    "    with open(\"data/url_list.txt\",'rt') as inf:\n",
    "        for index,line in enumerate(inf):\n",
    "            try:\n",
    "                url = parse_url(line.strip())\n",
    "                succ_urls.append(url)\n",
    "            except:\n",
    "                fail_urls.append(line)\n",
    "                print(\"failed to parse: {}\".format(line))\n",
    "\n",
    "            # if index%1000 ==0: print '{} lines parsed'.format(index)\n",
    "\n",
    "    print(\"************ ALL DONE ************\")\n",
    "    return succ_urls,fail_urls"
   ]
  },
  {
   "cell_type": "code",
   "execution_count": 14,
   "metadata": {
    "collapsed": false
   },
   "outputs": [
    {
     "name": "stdout",
     "output_type": "stream",
     "text": [
      "'amenities' has already existed in search\n",
      "'amenities' has already existed in search\n",
      "'amenities' has already existed in search\n",
      "'amenities' has already existed in search\n",
      "'amenities' has already existed in search\n",
      "************ ALL DONE ************\n"
     ]
    }
   ],
   "source": [
    "succ_urls,fail_urls = load_parse()\n"
   ]
  },
  {
   "cell_type": "code",
   "execution_count": 15,
   "metadata": {
    "collapsed": false
   },
   "outputs": [
    {
     "data": {
      "text/plain": [
       "0"
      ]
     },
     "execution_count": 15,
     "metadata": {},
     "output_type": "execute_result"
    }
   ],
   "source": [
    "len(fail_urls)#confirm all data parse is successful"
   ]
  },
  {
   "cell_type": "code",
   "execution_count": 16,
   "metadata": {
    "collapsed": true
   },
   "outputs": [],
   "source": [
    "# convert into DataFrame\n",
    "urls = pd.DataFrame(succ_urls)"
   ]
  },
  {
   "cell_type": "code",
   "execution_count": 18,
   "metadata": {
    "collapsed": false
   },
   "outputs": [
    {
     "data": {
      "text/html": [
       "<div>\n",
       "<style>\n",
       "    .dataframe thead tr:only-child th {\n",
       "        text-align: right;\n",
       "    }\n",
       "\n",
       "    .dataframe thead th {\n",
       "        text-align: left;\n",
       "    }\n",
       "\n",
       "    .dataframe tbody tr th {\n",
       "        vertical-align: top;\n",
       "    }\n",
       "</style>\n",
       "<table border=\"1\" class=\"dataframe\">\n",
       "  <thead>\n",
       "    <tr style=\"text-align: right;\">\n",
       "      <th></th>\n",
       "      <th>adults</th>\n",
       "      <th>amenities</th>\n",
       "      <th>checkin</th>\n",
       "      <th>checkout</th>\n",
       "      <th>children</th>\n",
       "      <th>city</th>\n",
       "      <th>couponCode</th>\n",
       "      <th>customMaximumPriceFilter</th>\n",
       "      <th>customMinimumPriceFilter</th>\n",
       "      <th>freeCancellation</th>\n",
       "      <th>max_score</th>\n",
       "      <th>min_score</th>\n",
       "      <th>search_page</th>\n",
       "      <th>stars_1</th>\n",
       "      <th>stars_2</th>\n",
       "      <th>stars_3</th>\n",
       "      <th>stars_4</th>\n",
       "      <th>stars_5</th>\n",
       "    </tr>\n",
       "  </thead>\n",
       "  <tbody>\n",
       "    <tr>\n",
       "      <th>0</th>\n",
       "      <td>3</td>\n",
       "      <td>NaN</td>\n",
       "      <td>2015-09-19</td>\n",
       "      <td>2015-09-20</td>\n",
       "      <td>NaN</td>\n",
       "      <td>New+York,+NY,+United+States</td>\n",
       "      <td>NaN</td>\n",
       "      <td>NaN</td>\n",
       "      <td>NaN</td>\n",
       "      <td>NaN</td>\n",
       "      <td>NaN</td>\n",
       "      <td>4</td>\n",
       "      <td>1</td>\n",
       "      <td>NaN</td>\n",
       "      <td>NaN</td>\n",
       "      <td>NaN</td>\n",
       "      <td>yes</td>\n",
       "      <td>NaN</td>\n",
       "    </tr>\n",
       "    <tr>\n",
       "      <th>1</th>\n",
       "      <td>3</td>\n",
       "      <td>NaN</td>\n",
       "      <td>2015-09-14</td>\n",
       "      <td>2015-09-15</td>\n",
       "      <td>NaN</td>\n",
       "      <td>London,+United+Kingdom</td>\n",
       "      <td>NaN</td>\n",
       "      <td>NaN</td>\n",
       "      <td>NaN</td>\n",
       "      <td>NaN</td>\n",
       "      <td>NaN</td>\n",
       "      <td>4</td>\n",
       "      <td>1</td>\n",
       "      <td>NaN</td>\n",
       "      <td>NaN</td>\n",
       "      <td>yes</td>\n",
       "      <td>NaN</td>\n",
       "      <td>NaN</td>\n",
       "    </tr>\n",
       "    <tr>\n",
       "      <th>2</th>\n",
       "      <td>2</td>\n",
       "      <td>NaN</td>\n",
       "      <td>2015-09-26</td>\n",
       "      <td>2015-09-27</td>\n",
       "      <td>NaN</td>\n",
       "      <td>New+York,+NY,+United+States</td>\n",
       "      <td>NaN</td>\n",
       "      <td>175</td>\n",
       "      <td>NaN</td>\n",
       "      <td>NaN</td>\n",
       "      <td>NaN</td>\n",
       "      <td>5</td>\n",
       "      <td>1</td>\n",
       "      <td>NaN</td>\n",
       "      <td>NaN</td>\n",
       "      <td>NaN</td>\n",
       "      <td>yes</td>\n",
       "      <td>NaN</td>\n",
       "    </tr>\n",
       "    <tr>\n",
       "      <th>3</th>\n",
       "      <td>1</td>\n",
       "      <td>NaN</td>\n",
       "      <td>2015-09-02</td>\n",
       "      <td>2015-09-03</td>\n",
       "      <td>NaN</td>\n",
       "      <td>Hong+Kong,+Hong+Kong</td>\n",
       "      <td>NaN</td>\n",
       "      <td>NaN</td>\n",
       "      <td>NaN</td>\n",
       "      <td>NaN</td>\n",
       "      <td>NaN</td>\n",
       "      <td>4</td>\n",
       "      <td>1</td>\n",
       "      <td>NaN</td>\n",
       "      <td>NaN</td>\n",
       "      <td>NaN</td>\n",
       "      <td>yes</td>\n",
       "      <td>yes</td>\n",
       "    </tr>\n",
       "    <tr>\n",
       "      <th>4</th>\n",
       "      <td>3</td>\n",
       "      <td>NaN</td>\n",
       "      <td>2015-09-20</td>\n",
       "      <td>2015-09-29</td>\n",
       "      <td>NaN</td>\n",
       "      <td>London,+United+Kingdom</td>\n",
       "      <td>NaN</td>\n",
       "      <td>275</td>\n",
       "      <td>NaN</td>\n",
       "      <td>NaN</td>\n",
       "      <td>NaN</td>\n",
       "      <td>5</td>\n",
       "      <td>1</td>\n",
       "      <td>NaN</td>\n",
       "      <td>NaN</td>\n",
       "      <td>NaN</td>\n",
       "      <td>NaN</td>\n",
       "      <td>NaN</td>\n",
       "    </tr>\n",
       "  </tbody>\n",
       "</table>\n",
       "</div>"
      ],
      "text/plain": [
       "  adults amenities     checkin    checkout children  \\\n",
       "0      3       NaN  2015-09-19  2015-09-20      NaN   \n",
       "1      3       NaN  2015-09-14  2015-09-15      NaN   \n",
       "2      2       NaN  2015-09-26  2015-09-27      NaN   \n",
       "3      1       NaN  2015-09-02  2015-09-03      NaN   \n",
       "4      3       NaN  2015-09-20  2015-09-29      NaN   \n",
       "\n",
       "                          city couponCode customMaximumPriceFilter  \\\n",
       "0  New+York,+NY,+United+States        NaN                      NaN   \n",
       "1       London,+United+Kingdom        NaN                      NaN   \n",
       "2  New+York,+NY,+United+States        NaN                      175   \n",
       "3         Hong+Kong,+Hong+Kong        NaN                      NaN   \n",
       "4       London,+United+Kingdom        NaN                      275   \n",
       "\n",
       "  customMinimumPriceFilter freeCancellation max_score min_score search_page  \\\n",
       "0                      NaN              NaN       NaN         4           1   \n",
       "1                      NaN              NaN       NaN         4           1   \n",
       "2                      NaN              NaN       NaN         5           1   \n",
       "3                      NaN              NaN       NaN         4           1   \n",
       "4                      NaN              NaN       NaN         5           1   \n",
       "\n",
       "  stars_1 stars_2 stars_3 stars_4 stars_5  \n",
       "0     NaN     NaN     NaN     yes     NaN  \n",
       "1     NaN     NaN     yes     NaN     NaN  \n",
       "2     NaN     NaN     NaN     yes     NaN  \n",
       "3     NaN     NaN     NaN     yes     yes  \n",
       "4     NaN     NaN     NaN     NaN     NaN  "
      ]
     },
     "execution_count": 18,
     "metadata": {},
     "output_type": "execute_result"
    }
   ],
   "source": [
    "urls.head()"
   ]
  },
  {
   "cell_type": "code",
   "execution_count": 19,
   "metadata": {
    "collapsed": false
   },
   "outputs": [
    {
     "data": {
      "text/html": [
       "<div>\n",
       "<style>\n",
       "    .dataframe thead tr:only-child th {\n",
       "        text-align: right;\n",
       "    }\n",
       "\n",
       "    .dataframe thead th {\n",
       "        text-align: left;\n",
       "    }\n",
       "\n",
       "    .dataframe tbody tr th {\n",
       "        vertical-align: top;\n",
       "    }\n",
       "</style>\n",
       "<table border=\"1\" class=\"dataframe\">\n",
       "  <thead>\n",
       "    <tr style=\"text-align: right;\">\n",
       "      <th></th>\n",
       "      <th>adults</th>\n",
       "      <th>amenities</th>\n",
       "      <th>checkin</th>\n",
       "      <th>checkout</th>\n",
       "      <th>children</th>\n",
       "      <th>city</th>\n",
       "      <th>couponCode</th>\n",
       "      <th>customMaximumPriceFilter</th>\n",
       "      <th>customMinimumPriceFilter</th>\n",
       "      <th>freeCancellation</th>\n",
       "      <th>max_score</th>\n",
       "      <th>min_score</th>\n",
       "      <th>search_page</th>\n",
       "      <th>stars_1</th>\n",
       "      <th>stars_2</th>\n",
       "      <th>stars_3</th>\n",
       "      <th>stars_4</th>\n",
       "      <th>stars_5</th>\n",
       "    </tr>\n",
       "  </thead>\n",
       "  <tbody>\n",
       "    <tr>\n",
       "      <th>count</th>\n",
       "      <td>77677</td>\n",
       "      <td>704</td>\n",
       "      <td>77677</td>\n",
       "      <td>77677</td>\n",
       "      <td>260</td>\n",
       "      <td>77677</td>\n",
       "      <td>2221</td>\n",
       "      <td>49288</td>\n",
       "      <td>1270</td>\n",
       "      <td>17949</td>\n",
       "      <td>5517</td>\n",
       "      <td>60826</td>\n",
       "      <td>77677</td>\n",
       "      <td>9323</td>\n",
       "      <td>9931</td>\n",
       "      <td>14862</td>\n",
       "      <td>12704</td>\n",
       "      <td>4303</td>\n",
       "    </tr>\n",
       "    <tr>\n",
       "      <th>unique</th>\n",
       "      <td>4</td>\n",
       "      <td>8</td>\n",
       "      <td>29</td>\n",
       "      <td>48</td>\n",
       "      <td>2</td>\n",
       "      <td>4</td>\n",
       "      <td>1</td>\n",
       "      <td>6</td>\n",
       "      <td>6</td>\n",
       "      <td>1</td>\n",
       "      <td>2</td>\n",
       "      <td>5</td>\n",
       "      <td>10</td>\n",
       "      <td>1</td>\n",
       "      <td>1</td>\n",
       "      <td>1</td>\n",
       "      <td>1</td>\n",
       "      <td>1</td>\n",
       "    </tr>\n",
       "    <tr>\n",
       "      <th>top</th>\n",
       "      <td>2</td>\n",
       "      <td>internet</td>\n",
       "      <td>2015-09-19</td>\n",
       "      <td>2015-09-20</td>\n",
       "      <td>1</td>\n",
       "      <td>New+York,+NY,+United+States</td>\n",
       "      <td>yes</td>\n",
       "      <td>175</td>\n",
       "      <td>150</td>\n",
       "      <td>yes</td>\n",
       "      <td>5</td>\n",
       "      <td>4</td>\n",
       "      <td>1</td>\n",
       "      <td>yes</td>\n",
       "      <td>yes</td>\n",
       "      <td>yes</td>\n",
       "      <td>yes</td>\n",
       "      <td>yes</td>\n",
       "    </tr>\n",
       "    <tr>\n",
       "      <th>freq</th>\n",
       "      <td>45922</td>\n",
       "      <td>272</td>\n",
       "      <td>5279</td>\n",
       "      <td>6003</td>\n",
       "      <td>180</td>\n",
       "      <td>29384</td>\n",
       "      <td>2221</td>\n",
       "      <td>14569</td>\n",
       "      <td>389</td>\n",
       "      <td>17949</td>\n",
       "      <td>5454</td>\n",
       "      <td>33639</td>\n",
       "      <td>50000</td>\n",
       "      <td>9323</td>\n",
       "      <td>9931</td>\n",
       "      <td>14862</td>\n",
       "      <td>12704</td>\n",
       "      <td>4303</td>\n",
       "    </tr>\n",
       "  </tbody>\n",
       "</table>\n",
       "</div>"
      ],
      "text/plain": [
       "       adults amenities     checkin    checkout children  \\\n",
       "count   77677       704       77677       77677      260   \n",
       "unique      4         8          29          48        2   \n",
       "top         2  internet  2015-09-19  2015-09-20        1   \n",
       "freq    45922       272        5279        6003      180   \n",
       "\n",
       "                               city couponCode customMaximumPriceFilter  \\\n",
       "count                         77677       2221                    49288   \n",
       "unique                            4          1                        6   \n",
       "top     New+York,+NY,+United+States        yes                      175   \n",
       "freq                          29384       2221                    14569   \n",
       "\n",
       "       customMinimumPriceFilter freeCancellation max_score min_score  \\\n",
       "count                      1270            17949      5517     60826   \n",
       "unique                        6                1         2         5   \n",
       "top                         150              yes         5         4   \n",
       "freq                        389            17949      5454     33639   \n",
       "\n",
       "       search_page stars_1 stars_2 stars_3 stars_4 stars_5  \n",
       "count        77677    9323    9931   14862   12704    4303  \n",
       "unique          10       1       1       1       1       1  \n",
       "top              1     yes     yes     yes     yes     yes  \n",
       "freq         50000    9323    9931   14862   12704    4303  "
      ]
     },
     "execution_count": 19,
     "metadata": {},
     "output_type": "execute_result"
    }
   ],
   "source": [
    "urls.describe()"
   ]
  },
  {
   "cell_type": "code",
   "execution_count": 20,
   "metadata": {
    "collapsed": false
   },
   "outputs": [
    {
     "name": "stdout",
     "output_type": "stream",
     "text": [
      "<class 'pandas.core.frame.DataFrame'>\n",
      "RangeIndex: 77677 entries, 0 to 77676\n",
      "Data columns (total 18 columns):\n",
      "adults                      77677 non-null object\n",
      "amenities                   704 non-null object\n",
      "checkin                     77677 non-null object\n",
      "checkout                    77677 non-null object\n",
      "children                    260 non-null object\n",
      "city                        77677 non-null object\n",
      "couponCode                  2221 non-null object\n",
      "customMaximumPriceFilter    49288 non-null object\n",
      "customMinimumPriceFilter    1270 non-null object\n",
      "freeCancellation            17949 non-null object\n",
      "max_score                   5517 non-null object\n",
      "min_score                   60826 non-null object\n",
      "search_page                 77677 non-null object\n",
      "stars_1                     9323 non-null object\n",
      "stars_2                     9931 non-null object\n",
      "stars_3                     14862 non-null object\n",
      "stars_4                     12704 non-null object\n",
      "stars_5                     4303 non-null object\n",
      "dtypes: object(18)\n",
      "memory usage: 10.7+ MB\n"
     ]
    }
   ],
   "source": [
    "urls.info()"
   ]
  },
  {
   "cell_type": "markdown",
   "metadata": {},
   "source": [
    "# Question 2\n",
    "For each search query, how many amenities were selected? "
   ]
  },
  {
   "cell_type": "code",
   "execution_count": 24,
   "metadata": {
    "collapsed": false
   },
   "outputs": [
    {
     "data": {
      "text/plain": [
       "False    76973\n",
       "True       704\n",
       "Name: amenities, dtype: int64"
      ]
     },
     "execution_count": 24,
     "metadata": {},
     "output_type": "execute_result"
    }
   ],
   "source": [
    "pd.notnull(urls.amenities).value_counts()"
   ]
  },
  {
   "cell_type": "code",
   "execution_count": 23,
   "metadata": {
    "collapsed": false
   },
   "outputs": [
    {
     "data": {
      "text/plain": [
       "amenities\n",
       "breakfast                39\n",
       "breakfast, yes_pet        1\n",
       "internet                272\n",
       "lounge                   22\n",
       "shuttle                 111\n",
       "yes_pet                  85\n",
       "yes_smoking             170\n",
       "yes_smoking, yes_pet      4\n",
       "dtype: int64"
      ]
     },
     "execution_count": 23,
     "metadata": {},
     "output_type": "execute_result"
    }
   ],
   "source": [
    "urls.groupby('amenities').size()"
   ]
  },
  {
   "cell_type": "code",
   "execution_count": 28,
   "metadata": {
    "collapsed": true
   },
   "outputs": [],
   "source": [
    "def valueParse(val):\n",
    "    if pd.isnull(val):\n",
    "        return 0\n",
    "    else:\n",
    "        return len(val.split(\", \"))"
   ]
  },
  {
   "cell_type": "code",
   "execution_count": 36,
   "metadata": {
    "collapsed": false
   },
   "outputs": [
    {
     "data": {
      "text/html": [
       "<div>\n",
       "<style>\n",
       "    .dataframe thead tr:only-child th {\n",
       "        text-align: right;\n",
       "    }\n",
       "\n",
       "    .dataframe thead th {\n",
       "        text-align: left;\n",
       "    }\n",
       "\n",
       "    .dataframe tbody tr th {\n",
       "        vertical-align: top;\n",
       "    }\n",
       "</style>\n",
       "<table border=\"1\" class=\"dataframe\">\n",
       "  <thead>\n",
       "    <tr style=\"text-align: right;\">\n",
       "      <th></th>\n",
       "      <th>amenities cnt</th>\n",
       "      <th>record cnt</th>\n",
       "    </tr>\n",
       "  </thead>\n",
       "  <tbody>\n",
       "    <tr>\n",
       "      <th>0</th>\n",
       "      <td>0</td>\n",
       "      <td>76973</td>\n",
       "    </tr>\n",
       "    <tr>\n",
       "      <th>1</th>\n",
       "      <td>1</td>\n",
       "      <td>699</td>\n",
       "    </tr>\n",
       "    <tr>\n",
       "      <th>2</th>\n",
       "      <td>2</td>\n",
       "      <td>5</td>\n",
       "    </tr>\n",
       "  </tbody>\n",
       "</table>\n",
       "</div>"
      ],
      "text/plain": [
       "   amenities cnt  record cnt\n",
       "0              0       76973\n",
       "1              1         699\n",
       "2              2           5"
      ]
     },
     "execution_count": 36,
     "metadata": {},
     "output_type": "execute_result"
    }
   ],
   "source": [
    "urls['amenities'].apply(valueParse).value_counts().reset_index().rename(columns={\"index\":\"amenities cnt\",\"amenities\":\"record cnt\"})"
   ]
  },
  {
   "cell_type": "markdown",
   "metadata": {},
   "source": [
    "# Define metrics"
   ]
  },
  {
   "cell_type": "code",
   "execution_count": 39,
   "metadata": {
    "collapsed": false
   },
   "outputs": [
    {
     "data": {
      "text/plain": [
       "1     50000\n",
       "2     11637\n",
       "3      5864\n",
       "4      3635\n",
       "5      2422\n",
       "6      1636\n",
       "7      1114\n",
       "8       740\n",
       "9       436\n",
       "10      193\n",
       "Name: search_page, dtype: int64"
      ]
     },
     "execution_count": 39,
     "metadata": {},
     "output_type": "execute_result"
    }
   ],
   "source": [
    "urls['search_page'].value_counts()"
   ]
  },
  {
   "cell_type": "code",
   "execution_count": 78,
   "metadata": {
    "collapsed": false
   },
   "outputs": [
    {
     "data": {
      "text/html": [
       "<div>\n",
       "<style>\n",
       "    .dataframe thead tr:only-child th {\n",
       "        text-align: right;\n",
       "    }\n",
       "\n",
       "    .dataframe thead th {\n",
       "        text-align: left;\n",
       "    }\n",
       "\n",
       "    .dataframe tbody tr th {\n",
       "        vertical-align: top;\n",
       "    }\n",
       "</style>\n",
       "<table border=\"1\" class=\"dataframe\">\n",
       "  <thead>\n",
       "    <tr style=\"text-align: right;\">\n",
       "      <th>search_page</th>\n",
       "      <th>1</th>\n",
       "      <th>10</th>\n",
       "      <th>2</th>\n",
       "      <th>3</th>\n",
       "      <th>4</th>\n",
       "      <th>5</th>\n",
       "      <th>6</th>\n",
       "      <th>7</th>\n",
       "      <th>8</th>\n",
       "      <th>9</th>\n",
       "    </tr>\n",
       "    <tr>\n",
       "      <th>city</th>\n",
       "      <th></th>\n",
       "      <th></th>\n",
       "      <th></th>\n",
       "      <th></th>\n",
       "      <th></th>\n",
       "      <th></th>\n",
       "      <th></th>\n",
       "      <th></th>\n",
       "      <th></th>\n",
       "      <th></th>\n",
       "    </tr>\n",
       "  </thead>\n",
       "  <tbody>\n",
       "    <tr>\n",
       "      <th>Hong+Kong,+Hong+Kong</th>\n",
       "      <td>10735.0</td>\n",
       "      <td>NaN</td>\n",
       "      <td>766.0</td>\n",
       "      <td>168.0</td>\n",
       "      <td>62.0</td>\n",
       "      <td>27.0</td>\n",
       "      <td>13.0</td>\n",
       "      <td>10.0</td>\n",
       "      <td>4.0</td>\n",
       "      <td>1.0</td>\n",
       "    </tr>\n",
       "    <tr>\n",
       "      <th>London,+United+Kingdom</th>\n",
       "      <td>14775.0</td>\n",
       "      <td>89.0</td>\n",
       "      <td>5258.0</td>\n",
       "      <td>2876.0</td>\n",
       "      <td>1833.0</td>\n",
       "      <td>1245.0</td>\n",
       "      <td>846.0</td>\n",
       "      <td>570.0</td>\n",
       "      <td>364.0</td>\n",
       "      <td>202.0</td>\n",
       "    </tr>\n",
       "    <tr>\n",
       "      <th>New+York,+NY,+United+States</th>\n",
       "      <td>16385.0</td>\n",
       "      <td>104.0</td>\n",
       "      <td>5329.0</td>\n",
       "      <td>2779.0</td>\n",
       "      <td>1728.0</td>\n",
       "      <td>1143.0</td>\n",
       "      <td>777.0</td>\n",
       "      <td>534.0</td>\n",
       "      <td>372.0</td>\n",
       "      <td>233.0</td>\n",
       "    </tr>\n",
       "    <tr>\n",
       "      <th>San+Francisco,+California,+United+States</th>\n",
       "      <td>8105.0</td>\n",
       "      <td>NaN</td>\n",
       "      <td>284.0</td>\n",
       "      <td>41.0</td>\n",
       "      <td>12.0</td>\n",
       "      <td>7.0</td>\n",
       "      <td>NaN</td>\n",
       "      <td>NaN</td>\n",
       "      <td>NaN</td>\n",
       "      <td>NaN</td>\n",
       "    </tr>\n",
       "  </tbody>\n",
       "</table>\n",
       "</div>"
      ],
      "text/plain": [
       "search_page                                     1     10       2       3  \\\n",
       "city                                                                       \n",
       "Hong+Kong,+Hong+Kong                      10735.0    NaN   766.0   168.0   \n",
       "London,+United+Kingdom                    14775.0   89.0  5258.0  2876.0   \n",
       "New+York,+NY,+United+States               16385.0  104.0  5329.0  2779.0   \n",
       "San+Francisco,+California,+United+States   8105.0    NaN   284.0    41.0   \n",
       "\n",
       "search_page                                    4       5      6      7      8  \\\n",
       "city                                                                            \n",
       "Hong+Kong,+Hong+Kong                        62.0    27.0   13.0   10.0    4.0   \n",
       "London,+United+Kingdom                    1833.0  1245.0  846.0  570.0  364.0   \n",
       "New+York,+NY,+United+States               1728.0  1143.0  777.0  534.0  372.0   \n",
       "San+Francisco,+California,+United+States    12.0     7.0    NaN    NaN    NaN   \n",
       "\n",
       "search_page                                   9  \n",
       "city                                             \n",
       "Hong+Kong,+Hong+Kong                        1.0  \n",
       "London,+United+Kingdom                    202.0  \n",
       "New+York,+NY,+United+States               233.0  \n",
       "San+Francisco,+California,+United+States    NaN  "
      ]
     },
     "execution_count": 78,
     "metadata": {},
     "output_type": "execute_result"
    }
   ],
   "source": [
    "url_pivot=urls.pivot_table(index=[\"city\"],columns=\"search_page\",values=\"checkin\",aggfunc=\"count\") \n",
    "url_pivot"
   ]
  },
  {
   "cell_type": "code",
   "execution_count": 120,
   "metadata": {
    "collapsed": false
   },
   "outputs": [],
   "source": [
    "total_by_city=url_pivot.sum(axis=1)\n",
    "total_by_city=pd.DataFrame(total_by_city)\n",
    "total_by_city.reset_index(inplace=True)\n",
    "total_by_city.rename(columns={0:'total_cnt'},inplace=True)"
   ]
  },
  {
   "cell_type": "code",
   "execution_count": 130,
   "metadata": {
    "collapsed": false
   },
   "outputs": [],
   "source": [
    "url_pivot1=url_pivot.reset_index()\n",
    "url_pivot1=url_pivot1.merge(total_by_city,how=\"left\")\n",
    "url_pivot1['page1_rate']=url_pivot1['1']/url_pivot1['total_cnt']"
   ]
  },
  {
   "cell_type": "code",
   "execution_count": 131,
   "metadata": {
    "collapsed": false
   },
   "outputs": [
    {
     "data": {
      "text/html": [
       "<div>\n",
       "<style>\n",
       "    .dataframe thead tr:only-child th {\n",
       "        text-align: right;\n",
       "    }\n",
       "\n",
       "    .dataframe thead th {\n",
       "        text-align: left;\n",
       "    }\n",
       "\n",
       "    .dataframe tbody tr th {\n",
       "        vertical-align: top;\n",
       "    }\n",
       "</style>\n",
       "<table border=\"1\" class=\"dataframe\">\n",
       "  <thead>\n",
       "    <tr style=\"text-align: right;\">\n",
       "      <th></th>\n",
       "      <th>city</th>\n",
       "      <th>1</th>\n",
       "      <th>10</th>\n",
       "      <th>2</th>\n",
       "      <th>3</th>\n",
       "      <th>4</th>\n",
       "      <th>5</th>\n",
       "      <th>6</th>\n",
       "      <th>7</th>\n",
       "      <th>8</th>\n",
       "      <th>9</th>\n",
       "      <th>total_cnt</th>\n",
       "      <th>page1_rate</th>\n",
       "    </tr>\n",
       "  </thead>\n",
       "  <tbody>\n",
       "    <tr>\n",
       "      <th>0</th>\n",
       "      <td>Hong+Kong,+Hong+Kong</td>\n",
       "      <td>10735.0</td>\n",
       "      <td>NaN</td>\n",
       "      <td>766.0</td>\n",
       "      <td>168.0</td>\n",
       "      <td>62.0</td>\n",
       "      <td>27.0</td>\n",
       "      <td>13.0</td>\n",
       "      <td>10.0</td>\n",
       "      <td>4.0</td>\n",
       "      <td>1.0</td>\n",
       "      <td>11786.0</td>\n",
       "      <td>0.910826</td>\n",
       "    </tr>\n",
       "    <tr>\n",
       "      <th>1</th>\n",
       "      <td>London,+United+Kingdom</td>\n",
       "      <td>14775.0</td>\n",
       "      <td>89.0</td>\n",
       "      <td>5258.0</td>\n",
       "      <td>2876.0</td>\n",
       "      <td>1833.0</td>\n",
       "      <td>1245.0</td>\n",
       "      <td>846.0</td>\n",
       "      <td>570.0</td>\n",
       "      <td>364.0</td>\n",
       "      <td>202.0</td>\n",
       "      <td>28058.0</td>\n",
       "      <td>0.526588</td>\n",
       "    </tr>\n",
       "    <tr>\n",
       "      <th>2</th>\n",
       "      <td>New+York,+NY,+United+States</td>\n",
       "      <td>16385.0</td>\n",
       "      <td>104.0</td>\n",
       "      <td>5329.0</td>\n",
       "      <td>2779.0</td>\n",
       "      <td>1728.0</td>\n",
       "      <td>1143.0</td>\n",
       "      <td>777.0</td>\n",
       "      <td>534.0</td>\n",
       "      <td>372.0</td>\n",
       "      <td>233.0</td>\n",
       "      <td>29384.0</td>\n",
       "      <td>0.557616</td>\n",
       "    </tr>\n",
       "    <tr>\n",
       "      <th>3</th>\n",
       "      <td>San+Francisco,+California,+United+States</td>\n",
       "      <td>8105.0</td>\n",
       "      <td>NaN</td>\n",
       "      <td>284.0</td>\n",
       "      <td>41.0</td>\n",
       "      <td>12.0</td>\n",
       "      <td>7.0</td>\n",
       "      <td>NaN</td>\n",
       "      <td>NaN</td>\n",
       "      <td>NaN</td>\n",
       "      <td>NaN</td>\n",
       "      <td>8449.0</td>\n",
       "      <td>0.959285</td>\n",
       "    </tr>\n",
       "  </tbody>\n",
       "</table>\n",
       "</div>"
      ],
      "text/plain": [
       "                                       city        1     10       2       3  \\\n",
       "0                      Hong+Kong,+Hong+Kong  10735.0    NaN   766.0   168.0   \n",
       "1                    London,+United+Kingdom  14775.0   89.0  5258.0  2876.0   \n",
       "2               New+York,+NY,+United+States  16385.0  104.0  5329.0  2779.0   \n",
       "3  San+Francisco,+California,+United+States   8105.0    NaN   284.0    41.0   \n",
       "\n",
       "        4       5      6      7      8      9  total_cnt  page1_rate  \n",
       "0    62.0    27.0   13.0   10.0    4.0    1.0    11786.0    0.910826  \n",
       "1  1833.0  1245.0  846.0  570.0  364.0  202.0    28058.0    0.526588  \n",
       "2  1728.0  1143.0  777.0  534.0  372.0  233.0    29384.0    0.557616  \n",
       "3    12.0     7.0    NaN    NaN    NaN    NaN     8449.0    0.959285  "
      ]
     },
     "execution_count": 131,
     "metadata": {},
     "output_type": "execute_result"
    }
   ],
   "source": [
    "url_pivot1"
   ]
  }
 ],
 "metadata": {
  "kernelspec": {
   "display_name": "Python 3",
   "language": "python",
   "name": "python3"
  },
  "language_info": {
   "codemirror_mode": {
    "name": "ipython",
    "version": 3
   },
   "file_extension": ".py",
   "mimetype": "text/x-python",
   "name": "python",
   "nbconvert_exporter": "python",
   "pygments_lexer": "ipython3",
   "version": "3.5.2"
  }
 },
 "nbformat": 4,
 "nbformat_minor": 2
}
